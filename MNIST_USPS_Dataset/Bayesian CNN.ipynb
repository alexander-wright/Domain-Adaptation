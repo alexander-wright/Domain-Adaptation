{
 "cells": [
  {
   "cell_type": "markdown",
   "metadata": {},
   "source": [
    "# Bayesian tri-training for semi-supervised domain adaptation\n",
    "\n",
    "A tri-training bootstrapped approach to domain adaptation for MNIST to USPS using a Bayesian CNN.\n",
    "\n",
    "Author: @ysbecca, see my [personal blog](ybecca.github.io) for contact.\n",
    "\n",
    "Credits go to:\n",
    "\n",
    "- Kuniaki Saito, Yoshitaka Ushiku, Tatsuya Harada, for their work in \"Asymmetric Tri-training for Unsupervised Domain Adaptation\" which is used as a base for this approach.\n",
    "- [Hvass-Labs](http://www.hvass-labs.org/) for the base CNN model for MNIST classification. The basics of their CNN was customised and added to for this work.\n",
    "- [Leo Pauly](https://github.com/leopauly) for the research interest in general.\n",
    "- Kyle Dorman, Yarin Gal, Alex Kendall for their work in Bayesian deep learning (specific papers referenced below)"
   ]
  },
  {
   "cell_type": "code",
   "execution_count": 163,
   "metadata": {},
   "outputs": [],
   "source": [
    "import tensorflow as tf\n",
    "import numpy as np\n",
    "from sklearn.metrics import confusion_matrix\n",
    "import matplotlib.pyplot as plt\n",
    "from datetime import timedelta\n",
    "from importlib import reload\n",
    "import math\n",
    "import time\n",
    "\n",
    "# Custom scripts.\n",
    "import ysb\n",
    "import dataset\n",
    "import mnist_usps as mnus\n",
    "import cnn_helper as cn"
   ]
  },
  {
   "cell_type": "code",
   "execution_count": 177,
   "metadata": {},
   "outputs": [
    {
     "data": {
      "text/plain": [
       "<module 'ysb' from '/Users/ysbecca/ysbecca-projects/Domain-Adaptation/MNIST_USPS_Dataset/ysb.py'>"
      ]
     },
     "execution_count": 177,
     "metadata": {},
     "output_type": "execute_result"
    }
   ],
   "source": [
    "reload(mnus)\n",
    "reload(dataset)\n",
    "reload(cn)\n",
    "reload(ysb)"
   ]
  },
  {
   "cell_type": "markdown",
   "metadata": {},
   "source": [
    "Set parameters."
   ]
  },
  {
   "cell_type": "code",
   "execution_count": 103,
   "metadata": {
    "collapsed": true
   },
   "outputs": [],
   "source": [
    "# Shared net parameters\n",
    "filter_size1 = 5          # Convolution filters are 5 x 5 pixels.\n",
    "num_filters1 = 32         # There are 16 of these filters.\n",
    "\n",
    "filter_size2 = 5         \n",
    "num_filters2 = 48    \n",
    "\n",
    "\n",
    "\n",
    "# Individual net parameters (for now we assume both fully connected layers have the same number of units)\n",
    "fc_size = 100\n",
    "\n",
    "# IMAGE PARAMETERS\n",
    "img_size = 16             # Width and height in pixels.\n",
    "\n",
    "# Images are stored in one-dimensional arrays of this length.\n",
    "img_size_flat = img_size * img_size\n",
    "\n",
    "# Tuple with height and width of images used to reshape arrays.\n",
    "img_shape = (img_size, img_size)\n",
    "\n",
    "# Number of colour channels for the images: 1 channel for gray-scale.\n",
    "num_channels = 1\n",
    "\n",
    "# Number of classes, one class for each of 10 digits.\n",
    "num_classes = 10"
   ]
  },
  {
   "cell_type": "markdown",
   "metadata": {},
   "source": [
    "## Load both datasets."
   ]
  },
  {
   "cell_type": "code",
   "execution_count": 4,
   "metadata": {
    "collapsed": true
   },
   "outputs": [],
   "source": [
    "mnist_data, usps_data = dataset.read_datasets()"
   ]
  },
  {
   "cell_type": "code",
   "execution_count": 5,
   "metadata": {},
   "outputs": [
    {
     "name": "stdout",
     "output_type": "stream",
     "text": [
      "MNIST dataset:\n",
      "- Training-set:\t\t49000\n",
      "- Test-set:\t\t14000\n",
      "- Validation-set:\t7000\n",
      "USPS dataset:\n",
      "- Training-set:\t\t7439\n",
      "- Test-set:\t\t1859\n"
     ]
    }
   ],
   "source": [
    "print(\"MNIST dataset:\")\n",
    "print(\"- Training-set:\\t\\t{}\".format(mnist_data.train.num_images))\n",
    "print(\"- Test-set:\\t\\t{}\".format(mnist_data.test.num_images))\n",
    "print(\"- Validation-set:\\t{}\".format(mnist_data.valid.num_images))\n",
    "\n",
    "print(\"USPS dataset:\")\n",
    "print(\"- Training-set:\\t\\t{}\".format(usps_data.train.num_images))\n",
    "print(\"- Test-set:\\t\\t{}\".format(usps_data.test.num_images))"
   ]
  },
  {
   "cell_type": "code",
   "execution_count": 6,
   "metadata": {},
   "outputs": [
    {
     "data": {
      "image/png": "[encoded data removed]",
      "text/plain": [
       "<matplotlib.figure.Figure at 0x11ade69b0>"
      ]
     },
     "metadata": {},
     "output_type": "display_data"
    },
    {
     "data": {
      "image/png": "[encoded data removed]",
      "text/plain": [
       "<matplotlib.figure.Figure at 0x11ade6978>"
      ]
     },
     "metadata": {},
     "output_type": "display_data"
    }
   ],
   "source": [
    "i = 0\n",
    "to_show = 10\n",
    "ysb.show_labeled_patches_gray(mnist_data.train.images[i:(i+to_show)], mnist_data.train.cls[i:(i+to_show)])\n",
    "ysb.show_labeled_patches_gray(usps_data.train.images[i:(i+to_show)], usps_data.train.cls[i:(i+to_show)])"
   ]
  },
  {
   "cell_type": "markdown",
   "metadata": {},
   "source": [
    "## Build the four networks\n",
    "\n",
    "The first network, the shared network, will feed into the three tri-training networks: two labeling networks and one target-specific network."
   ]
  },
  {
   "cell_type": "code",
   "execution_count": 235,
   "metadata": {
    "collapsed": true
   },
   "outputs": [],
   "source": [
    "x = tf.placeholder(tf.float32, shape=[None, img_size_flat], name='x')\n",
    "x_image = tf.reshape(x, [-1, img_size, img_size, num_channels])\n",
    "\n",
    "y_true = tf.placeholder(tf.float32, shape=[None, num_classes], name='y_true')\n",
    "y_true_cls = tf.argmax(y_true, dimension=1)\n",
    "\n",
    "keep_prob = tf.placeholder(tf.float32) # So we can control dropout.\n",
    "keep_prob_target = tf.placeholder(tf.float32) # Separate dropout rate for the target-only network."
   ]
  },
  {
   "cell_type": "markdown",
   "metadata": {},
   "source": [
    "Build TensorFlow graph for the shared network."
   ]
  },
  {
   "cell_type": "code",
   "execution_count": 236,
   "metadata": {},
   "outputs": [],
   "source": [
    "shared_net = \\\n",
    "    cn.new_conv_layer(input=x_image,\n",
    "                   num_input_channels=num_channels,\n",
    "                   filter_size=filter_size1,\n",
    "                   num_filters=num_filters1,\n",
    "                   use_pooling=True)\n",
    "shared_net = \\\n",
    "    cn.new_conv_layer(input=shared_net,\n",
    "                   num_input_channels=num_filters1,\n",
    "                   filter_size=filter_size2,\n",
    "                   num_filters=num_filters2,\n",
    "                   use_pooling=True)\n",
    "shared_net, features = cn.flatten_layer(shared_net)"
   ]
  },
  {
   "cell_type": "markdown",
   "metadata": {},
   "source": [
    "Now we build the three independent networks, which are identical."
   ]
  },
  {
   "cell_type": "code",
   "execution_count": 237,
   "metadata": {
    "scrolled": false
   },
   "outputs": [],
   "source": [
    "# Labeling network F1\n",
    "f1_net, _ = cn.new_fc_layer(input=shared_net,       \n",
    "                         num_inputs=features,\n",
    "                         num_outputs=fc_size,\n",
    "                         use_relu=True)\n",
    "f1_net, f1_w_out = cn.new_fc_layer(input=f1_net,       \n",
    "                         num_inputs=fc_size,\n",
    "                         num_outputs=fc_size,\n",
    "                         use_relu=True, )\n",
    "#                          dropout_keep_rate=keep_prob)\n",
    "f1_net, _ = cn.new_fc_layer(input=f1_net,             # This is the classification layer.\n",
    "                         num_inputs=fc_size,\n",
    "                         num_outputs=num_classes,            # num_classes = 10\n",
    "                         use_relu=False)\n",
    "f1_y_pred = tf.nn.softmax(f1_net)                    \n",
    "f1_y_pred_cls = tf.argmax(f1_y_pred, dimension=1)\n",
    "\n",
    "\n",
    "# Labeling network F2\n",
    "f2_net, _ = cn.new_fc_layer(input=shared_net,\n",
    "                         num_inputs=features,\n",
    "                         num_outputs=fc_size,\n",
    "                         use_relu=True)\n",
    "f2_net, f2_w_out = cn.new_fc_layer(input=f2_net,          \n",
    "                         num_inputs=fc_size,\n",
    "                         num_outputs=fc_size,\n",
    "                         use_relu=True, )\n",
    "#                          dropout_keep_rate=keep_prob)\n",
    "f2_net, _ = cn.new_fc_layer(input=f2_net,          \n",
    "                         num_inputs=fc_size,\n",
    "                         num_outputs=num_classes,\n",
    "                         use_relu=True)\n",
    "f2_y_pred = tf.nn.softmax(f2_net)                    \n",
    "f2_y_pred_cls = tf.argmax(f2_y_pred, dimension=1)\n",
    "\n",
    "# # Labeling network F3\n",
    "f3_net, _ = cn.new_fc_layer(input=shared_net,\n",
    "                         num_inputs=features,\n",
    "                         num_outputs=fc_size,\n",
    "                         use_relu=True)\n",
    "f3_net, _ = cn.new_fc_layer(input=f3_net,          \n",
    "                         num_inputs=fc_size,\n",
    "                         num_outputs=fc_size,\n",
    "                         use_relu=True, )\n",
    "#                          dropout_keep_rate=keep_prob_target)\n",
    "f3_net, _ = cn.new_fc_layer(input=f3_net,          \n",
    "                         num_inputs=fc_size,\n",
    "                         num_outputs=num_classes,\n",
    "                         use_relu=True)\n",
    "f3_y_pred = tf.nn.softmax(f3_net)                    \n",
    "f3_y_pred_cls = tf.argmax(f3_y_pred, dimension=1)"
   ]
  },
  {
   "cell_type": "markdown",
   "metadata": {},
   "source": [
    "Now we define the cost for each network."
   ]
  },
  {
   "cell_type": "code",
   "execution_count": 238,
   "metadata": {},
   "outputs": [],
   "source": [
    "# Cost for the three networks\n",
    "f1_cost = tf.reduce_mean(tf.nn.softmax_cross_entropy_with_logits(logits=f1_net, labels=y_true))\n",
    "f2_cost = tf.reduce_mean(tf.nn.softmax_cross_entropy_with_logits(logits=f2_net, labels=y_true))\n",
    "f3_cost = tf.reduce_mean(tf.nn.softmax_cross_entropy_with_logits(logits=f3_net, labels=y_true))\n",
    "\n",
    "# Overall tri-network costs, with a constraint for the weights of F1, F2 to force their inputs to be diffferent.\n",
    "weight_constraint = tf.reduce_sum( \\\n",
    "                        tf.abs( \\\n",
    "                        tf.multiply( \\\n",
    "                        tf.transpose(f1_w_out), f2_w_out)))\n",
    "cost = f1_cost + f2_cost + f3_cost + weight_constraint\n",
    "labeling_cost = f1_cost + f2_cost + weight_constraint\n",
    "target_only_cost = f3_cost\n",
    "\n",
    "# Optimisation functions\n",
    "initial_optimizer = tf.train.AdamOptimizer(learning_rate=1e-4).minimize(f1_cost + f2_cost + f3_cost)\n",
    "optimizer_all = tf.train.AdamOptimizer(learning_rate=1e-4).minimize(cost)\n",
    "optimizer_f1f2 = tf.train.AdamOptimizer(learning_rate=1e-4).minimize(labeling_cost)\n",
    "optimizer_f3 = tf.train.AdamOptimizer(learning_rate=1e-4).minimize(target_only_cost)\n",
    "\n",
    "# Individual network accuracies\n",
    "f1_accuracy = tf.reduce_mean(tf.cast(tf.equal(f1_y_pred_cls, y_true_cls), tf.float32))\n",
    "f2_accuracy = tf.reduce_mean(tf.cast(tf.equal(f2_y_pred_cls, y_true_cls), tf.float32))\n",
    "f3_accuracy = tf.reduce_mean(tf.cast(tf.equal(f3_y_pred_cls, y_true_cls), tf.float32))"
   ]
  },
  {
   "cell_type": "markdown",
   "metadata": {},
   "source": [
    "Now we create a new TensorFlow session and initialise the variables."
   ]
  },
  {
   "cell_type": "code",
   "execution_count": 239,
   "metadata": {},
   "outputs": [],
   "source": [
    "tf.set_random_seed(1)\n",
    "np.random.seed(0)\n",
    "\n",
    "session = tf.Session()\n",
    "session.run(tf.global_variables_initializer())\n",
    "train_batch_size = 128\n",
    "test_batch_size = 128\n",
    "\n",
    "saver = tf.train.Saver()"
   ]
  },
  {
   "cell_type": "markdown",
   "metadata": {},
   "source": [
    "Helper functions for running optimisation iterations and showing test accuracy."
   ]
  },
  {
   "cell_type": "code",
   "execution_count": 240,
   "metadata": {
    "collapsed": true
   },
   "outputs": [],
   "source": [
    "# Counter for total number of iterations performed so far.\n",
    "total_iterations = 0\n",
    "\n",
    "def optimize(dataset_train, num_iterations, silent=False, dropout_keep_prob=1.0):\n",
    "    global total_iterations\n",
    "    start_time = time.time()\n",
    "    for i in range(total_iterations,\n",
    "                   total_iterations + num_iterations):\n",
    "        x_batch, y_true_batch = dataset_train.next_batch(train_batch_size)\n",
    "        x_batch = x_batch.reshape(len(x_batch), img_size_flat)\n",
    "        feed_dict_train = {x: x_batch, y_true: y_true_batch, keep_prob: dropout_keep_prob}\n",
    "\n",
    "        # [optimizer_all, optimizer_f1f2, optimizer_f3]\n",
    "        session.run(initial_optimizer, feed_dict=feed_dict_train)\n",
    "\n",
    "        # Print status every 250 iterations.\n",
    "        if i % 250 == 0:\n",
    "            # Calculate the accuracy on the training-set.\n",
    "            acc = session.run(f1_accuracy, feed_dict=feed_dict_train)\n",
    "\n",
    "            if not silent:\n",
    "                msg = \"Optimization Iteration: {0:>6}, Training Accuracy: {1:>6.1%}\"\n",
    "                print(msg.format(i + 1, acc))\n",
    "\n",
    "    total_iterations += num_iterations\n",
    "\n",
    "    end_time = time.time()\n",
    "    time_dif = end_time - start_time\n",
    "    if not silent:\n",
    "        print(\"Time usage: \" + str(timedelta(seconds=int(round(time_dif)))))\n",
    "    \n",
    "def print_test_accuracy(dataset_test, show_confusion_matrix=True, quieter=False, silent=False):\n",
    "    num_test = len(dataset_test.images)\n",
    "    cls_pred_f1 = np.zeros(shape=num_test, dtype=np.int)\n",
    "    cls_pred_f2 = np.zeros(shape=num_test, dtype=np.int)\n",
    "    cls_pred_f3 = np.zeros(shape=num_test, dtype=np.int)\n",
    "    \n",
    "    i = 0\n",
    "\n",
    "    while i < num_test:\n",
    "        j = min(i + test_batch_size, num_test)\n",
    "        curr_batch_size = j - i\n",
    "        \n",
    "        # Get the images and targets from the test-set between index i and j.\n",
    "        images = dataset_test.images[i:j, :].reshape(curr_batch_size, img_size_flat)\n",
    "        labels = dataset_test.labels[i:j, :]\n",
    "        feed_dict = {x: images, y_true: labels}\n",
    "\n",
    "        cls_pred_f1[i:j], cls_pred_f2[i:j], cls_pred_f3[i:j] = \\\n",
    "                        session.run([f1_y_pred_cls, f2_y_pred_cls, f3_y_pred_cls], feed_dict=feed_dict)\n",
    "        i = j\n",
    "\n",
    "    cls_true = dataset_test.cls\n",
    "\n",
    "    # Create a boolean array whether each image is correctly classified.\n",
    "    correct_f1, correct_f2, correct_f3 = \\\n",
    "            (cls_true == cls_pred_f1), (cls_true == cls_pred_f2), (cls_true == cls_pred_f3)\n",
    "    \n",
    "    correct_sum_f1, correct_sum_f2, correct_sum_f3 = correct_f1.sum(), correct_f2.sum(), correct_f3.sum()\n",
    "    acc_f1, acc_f2, acc_f3 = \\\n",
    "        float(correct_sum_f1) / num_test, float(correct_sum_f2) / num_test, float(correct_sum_f3) / num_test\n",
    "\n",
    "    msg = \"Accuracy on test set: F1 {0:.1%}, F2 {1:.1%}, F3 {2:.1%}\"\n",
    "    if not quieter:\n",
    "        print(msg.format(acc_f1, acc_f2, acc_f3))\n",
    "    else:\n",
    "        if not silent:\n",
    "            print(msg.format(acc_f1, acc_f2, acc_f3))\n",
    "    \n",
    "    if show_confusion_matrix:\n",
    "        # Show confusion matrix for F3 only\n",
    "        cn.plot_confusion_matrix(cls_true, cls_pred=cls_pred_f2)\n",
    "    return acc_f1, acc_f2, acc_f3"
   ]
  },
  {
   "cell_type": "markdown",
   "metadata": {},
   "source": [
    "## First, we train all the networks on the labeled source data set.\n",
    "\n",
    "- MNIST to USPS"
   ]
  },
  {
   "cell_type": "code",
   "execution_count": 241,
   "metadata": {
    "scrolled": false
   },
   "outputs": [
    {
     "name": "stdout",
     "output_type": "stream",
     "text": [
      "Accuracy on test set: F1 13.3%, F2 11.7%, F3 10.8%\n"
     ]
    },
    {
     "data": {
      "text/plain": [
       "(0.13307142857142856, 0.11692857142857142, 0.1085)"
      ]
     },
     "execution_count": 241,
     "metadata": {},
     "output_type": "execute_result"
    }
   ],
   "source": [
    "print_test_accuracy(mnist_data.test, show_confusion_matrix=False)"
   ]
  },
  {
   "cell_type": "code",
   "execution_count": 242,
   "metadata": {
    "scrolled": false
   },
   "outputs": [
    {
     "name": "stdout",
     "output_type": "stream",
     "text": [
      "Optimization Iteration:      1, Training Accuracy:  14.8%\n",
      "Time usage: 0:00:02\n"
     ]
    }
   ],
   "source": [
    "optimize(mnist_data.train, num_iterations=10, silent=False)"
   ]
  },
  {
   "cell_type": "code",
   "execution_count": 243,
   "metadata": {},
   "outputs": [
    {
     "name": "stdout",
     "output_type": "stream",
     "text": [
      "Accuracy on test set: F1 18.7%, F2 15.2%, F3 25.0%\n"
     ]
    },
    {
     "data": {
      "text/plain": [
       "(0.18664285714285714, 0.15207142857142858, 0.24971428571428572)"
      ]
     },
     "execution_count": 243,
     "metadata": {},
     "output_type": "execute_result"
    }
   ],
   "source": [
    "print_test_accuracy(mnist_data.test, show_confusion_matrix=False)"
   ]
  },
  {
   "cell_type": "code",
   "execution_count": 244,
   "metadata": {
    "collapsed": true
   },
   "outputs": [],
   "source": [
    "optimize(mnist_data.train, num_iterations=15000, silent=True)"
   ]
  },
  {
   "cell_type": "code",
   "execution_count": 245,
   "metadata": {},
   "outputs": [
    {
     "name": "stdout",
     "output_type": "stream",
     "text": [
      "Accuracy on test set: F1 98.4%, F2 98.4%, F3 98.4%\n",
      "[[1373    1    2    0    1    1    7    1    4    2]\n",
      " [   0 1552    2    1    0    0    2    5    1    1]\n",
      " [   3    1 1409    3    1    1    0    2    2    1]\n",
      " [   3    1   10 1406    0    9    1    5    9   11]\n",
      " [   0    0    1    0 1377    0    2    3    0    4]\n",
      " [   1    0    1    1    1 1233    5    1    2    5]\n",
      " [   5    2    0    0    4    0 1364    0    1    0]\n",
      " [   0    1   10    1    4    0    0 1424    1   11]\n",
      " [   0    2    6    4    8    4    6    0 1305    6]\n",
      " [   2    1    0    5   11    6    0    5    1 1329]]\n"
     ]
    },
    {
     "data": {
      "image/png": "[encoded data removed]",
      "text/plain": [
       "<matplotlib.figure.Figure at 0x1543b6668>"
      ]
     },
     "metadata": {},
     "output_type": "display_data"
    },
    {
     "data": {
      "text/plain": [
       "(0.9836428571428572, 0.9837142857142858, 0.9843571428571428)"
      ]
     },
     "execution_count": 245,
     "metadata": {},
     "output_type": "execute_result"
    }
   ],
   "source": [
    "print_test_accuracy(mnist_data.test, show_confusion_matrix=True)"
   ]
  },
  {
   "cell_type": "markdown",
   "metadata": {},
   "source": [
    "Now we save the CNN model which has been trained on MNIST."
   ]
  },
  {
   "cell_type": "code",
   "execution_count": 246,
   "metadata": {},
   "outputs": [
    {
     "data": {
      "text/plain": [
       "'checkpoints/'"
      ]
     },
     "execution_count": 246,
     "metadata": {},
     "output_type": "execute_result"
    }
   ],
   "source": [
    "saver.save(sess=session, save_path='checkpoints/')"
   ]
  },
  {
   "cell_type": "markdown",
   "metadata": {},
   "source": [
    "## Labeling function based on output of F1 and F2 and epistemic uncertainty (approximated) on target dataset\n",
    "\n",
    "\"We can model epistemic uncertainty in deep learning models using Monte Carlo dropout sampling at test time.\n",
    "Dropout sampling can be interpreted as sampling from a distribution over models.\"\n",
    "\n",
    "Credits:\n",
    "\n",
    "- Alex Kendall's presentation: https://alexgkendall.com/media/presentations/oxford_seminar.pdf\n",
    "- Yarin Gal's paper \"Dropout as a Bayesian Approximation Representing Model Uncertainty in Deep Learning\" http://proceedings.mlr.press/v48/gal16.pdf\n",
    "- Kyle Dorman's post \"Building a Bayesian Deep Learning Classifier\" https://medium.com/towards-data-science/building-a-bayesian-deep-learning-classifier-ece1845bc09"
   ]
  },
  {
   "cell_type": "markdown",
   "metadata": {},
   "source": [
    "Now test on USPS test set, then run the CNN on the entire training set (we treat the training set as if it is completely unlabeled) and save softmax outputs."
   ]
  },
  {
   "cell_type": "code",
   "execution_count": null,
   "metadata": {},
   "outputs": [],
   "source": [
    "print_test_accuracy(usps_data.test, show_confusion_matrix=True)"
   ]
  },
  {
   "cell_type": "code",
   "execution_count": null,
   "metadata": {
    "collapsed": true
   },
   "outputs": [],
   "source": [
    "# T is the number of iterations for sampling.\n",
    "def monte_carlo_preds(dataset_test, T, show_confusion_matrix=True, quieter=False, silent=False):\n",
    "    num_test = len(dataset_test.images)\n",
    "    all_cls_preds = np.zeros(shape=(T, num_test, 10), dtype=np.float64)\n",
    "    cls_true = dataset_test.cls\n",
    "    \n",
    "    if num_test == 0:\n",
    "        return [], []\n",
    "    \n",
    "    for k in range(T):\n",
    "        i = 0\n",
    "        cls_preds = np.zeros(shape=(num_test, 10), dtype=np.float64)\n",
    "        \n",
    "        while i < num_test:\n",
    "            j = min(i + test_batch_size, num_test)\n",
    "            curr_batch_size = j - i\n",
    "\n",
    "            # Get the images and targets from the test-set between index i and j.\n",
    "            images = dataset_test.images[i:j, :].reshape(curr_batch_size, img_size_flat)\n",
    "            labels = dataset_test.labels[i:j, :]\n",
    "            feed_dict = {x: images, y_true: labels, keep_prob: 0.1}\n",
    "\n",
    "            # For each T iterations, we want all the softmax outputs from each prediction (N, 10)\n",
    "            # where N is the input size. all_cls_preds should have shape (T, N, 10).\n",
    "            cls_preds[i:j] = session.run(y_pred, feed_dict=feed_dict)\n",
    "            i = j\n",
    "\n",
    "        all_cls_preds[k] = cls_preds\n",
    "\n",
    "    # (N, 10)\n",
    "    prediction_probabilities = np.mean(all_cls_preds, axis=0)\n",
    "\n",
    "    # (N) one variance for each input.\n",
    "    prediction_variances = np.apply_along_axis(predictive_entropy, axis=1, arr=prediction_probabilities) \n",
    "\n",
    "    return prediction_probabilities, prediction_variances\n",
    "\n",
    "def predictive_entropy(prediction_probabilities):\n",
    "    return -1 * np.sum(np.log(prediction_probabilities) * prediction_probabilities, axis=0)\n",
    "\n",
    "def retrieve_predictions(dataset):\n",
    "    ''' Retrieves the probabilities (not predicted classes) on the given DataSet object. '''\n",
    "    num_test = len(dataset.images)\n",
    "\n",
    "    # Allocate an array for the class probabilities which will be calculated in batches and added\n",
    "    # onto this array; this first element is a dummy to maintain shape as we will add in batches.\n",
    "    cls_prob = np.zeros(shape=(1, num_classes), dtype=np.int)\n",
    "    i = 0\n",
    "\n",
    "    while i < num_test:\n",
    "        j = min(i + test_batch_size, num_test)\n",
    "        curr_batch_size = j - i\n",
    "        images = dataset.images[i:j, :].reshape(curr_batch_size, img_size_flat)\n",
    "        labels = dataset.labels[i:j, :]\n",
    "        feed_dict = {x: images, y_true: labels, keep_prob: 1.0}\n",
    "\n",
    "        # Save the softmax output.\n",
    "        cls_prob = np.concatenate((cls_prob, session.run(y_pred, feed_dict=feed_dict)), axis=0)\n",
    "        i = j\n",
    "    \n",
    "    cls_prob = np.delete(cls_prob, 0, 0) # Remove the first dummy element now.\n",
    "    return cls_prob\n"
   ]
  },
  {
   "cell_type": "markdown",
   "metadata": {},
   "source": [
    "## Experimenting with different thresholds, number of iterations, & threshold rates.\n",
    "\n",
    "Remember to reset the CNN model back to the checkpoint before each new experiment, as well as re-designating the dataset so that all MNIST images are training images, and the USPS set is divided into test (labelled) and train (unlabelled)."
   ]
  },
  {
   "cell_type": "code",
   "execution_count": null,
   "metadata": {},
   "outputs": [],
   "source": [
    "saver.restore(sess=session, save_path='checkpoints/')\n",
    "data = dataset.generate_combined_dataset(mnist_data, usps_data)"
   ]
  },
  {
   "cell_type": "code",
   "execution_count": null,
   "metadata": {
    "collapsed": true
   },
   "outputs": [],
   "source": [
    "preds, uncertainties = monte_carlo_preds(usps_data.test, 50, show_confusion_matrix=True, quieter=True)"
   ]
  },
  {
   "cell_type": "markdown",
   "metadata": {},
   "source": [
    "First we will demonstrate that cases exist where bootstrapping using the softmax threshold would result in mislabelling, whereas the epistemic uncertainty provides a warning that the classifier is uncertain."
   ]
  },
  {
   "cell_type": "code",
   "execution_count": null,
   "metadata": {
    "scrolled": false
   },
   "outputs": [],
   "source": [
    "i = 0\n",
    "to_show = 20\n",
    "\n",
    "printed_uncertainty = [round(a, 4) for a in uncertainties]\n",
    "print(\"Labels: Epistemic uncertainty, softmax prediction, actual class.\")\n",
    "\n",
    "ysb.show_images_with_three_labels_gray(usps_data.test.images[i:(i+to_show)], printed_uncertainty[i:(i+to_show)], \\\n",
    "                                       np.argmax(preds[i:to_show], axis=1), usps_data.test.cls[i:to_show])"
   ]
  },
  {
   "cell_type": "markdown",
   "metadata": {},
   "source": [
    "Now we want to calculate, using the test round above, what the softmax threshold should be. We will look at the epistemic uncertainty for all the cases where the true class is different from the softmax prediction."
   ]
  },
  {
   "cell_type": "code",
   "execution_count": null,
   "metadata": {},
   "outputs": [],
   "source": [
    "preds, uncertainties, usps_data.test.cls\n",
    "\n",
    "case_epi_unc = []\n",
    "for i, pred in enumerate(np.argmax(preds, axis=1)):\n",
    "    if(pred != usps_data.test.cls[i]):\n",
    "        case_epi_unc.append(uncertainties[i])\n",
    "\n",
    "print(\"For the USPS test set:\")\n",
    "print(\"  - \" + str(len(case_epi_unc)) + \" cases.\")\n",
    "print(\"  - Mean uncertainty: \" + str(np.mean(case_epi_unc)))\n",
    "print(\"  - Maximum uncertainty: \" + str(np.max(case_epi_unc)))\n",
    "print(\"  - Minimum uncertainty: \" + str(np.min(case_epi_unc)))\n",
    "\n",
    "ysb.plot_with_legend(np.arange(len(case_epi_unc)), [np.sort(case_epi_unc)], [\"USPS test\"], \"Cases\", \"Uncertainty\")"
   ]
  },
  {
   "cell_type": "markdown",
   "metadata": {},
   "source": [
    "### Experiment 1: repeated iterations of labeling unlabeled images with LOW epistemic uncertainty."
   ]
  },
  {
   "cell_type": "code",
   "execution_count": null,
   "metadata": {
    "scrolled": false
   },
   "outputs": [],
   "source": [
    "bootstrap_iterations = 75\n",
    "exp1_acc = []\n",
    "exp1_adds = []\n",
    "\n",
    "print(\"-- Experiment 1 --\")\n",
    "\n",
    "for i in range(bootstrap_iterations):\n",
    "    # Run Monte Carlo sampling iterations to calculate epistemic uncertainty.\n",
    "    preds, uncertainties = monte_carlo_preds(data.usps_train, 50, show_confusion_matrix=False, quieter=True)\n",
    "    selected = np.where(uncertainties < 0.3, 1, 0)\n",
    "    \n",
    "    if np.count_nonzero(selected) >= data.train.num_images or np.count_nonzero(selected) == 0:\n",
    "        print(\"Ending iterations early.\")\n",
    "        break\n",
    "    \n",
    "    exp1_adds.append(np.count_nonzero(selected))\n",
    "    data.train.add_to_set(selected, data.usps_train, preds)\n",
    "    data.usps_train.remove_from_set(selected)\n",
    "    \n",
    "    optimize(data.train, num_iterations=1000, silent=True)\n",
    "    exp1_acc.append(print_test_accuracy(data.test, show_confusion_matrix=False, quieter=True, silent=True))"
   ]
  },
  {
   "cell_type": "code",
   "execution_count": null,
   "metadata": {},
   "outputs": [],
   "source": [
    "print(\"Best percent accuracy: \" + str(np.max(exp1_acc)))"
   ]
  },
  {
   "cell_type": "code",
   "execution_count": null,
   "metadata": {},
   "outputs": [],
   "source": [
    "ysb.plot_with_legend(np.arange(len(exp1_acc)), [exp1_acc], [\"Accuracy\"], \"Iterations\", \"Accuracy\")\n",
    "ysb.plot_with_legend(np.arange(len(exp1_adds)), [exp1_adds], [\"No. images added\"], \"Iterations\", \"Images added\")"
   ]
  },
  {
   "cell_type": "markdown",
   "metadata": {
    "collapsed": true
   },
   "source": [
    "### Experiment 2: repeated iterations of labeling unlabeled images with LOW epistemic uncertainty if the softmax output is HIGH."
   ]
  },
  {
   "cell_type": "code",
   "execution_count": null,
   "metadata": {},
   "outputs": [],
   "source": [
    "saver.restore(sess=session, save_path='checkpoints/')\n",
    "data = dataset.generate_combined_dataset(mnist_data, usps_data)"
   ]
  },
  {
   "cell_type": "code",
   "execution_count": null,
   "metadata": {},
   "outputs": [],
   "source": [
    "exp2_acc = []\n",
    "exp2_adds = []\n",
    "\n",
    "print(\"-- Experiment 2 --\")\n",
    "\n",
    "for i in range(bootstrap_iterations):\n",
    "    usps_train_preds = retrieve_predictions(data.usps_train)\n",
    "    softmax_selected = cn.split_by_threshold(0.99, usps_train_preds, silent=True)\n",
    "    \n",
    "    preds, uncertainties = monte_carlo_preds(data.usps_train, 100, show_confusion_matrix=False, quieter=True)\n",
    "    bay_selected = np.where(uncertainties < 0.3, 1, 0)\n",
    "    \n",
    "    selected = np.zeros((len(bay_selected)))\n",
    "    for j, s in enumerate(softmax_selected):\n",
    "        if s > 0 and bay_selected[j] > 0:\n",
    "            selected[j] = 1\n",
    "    \n",
    "    if np.count_nonzero(selected) >= data.train.num_images or np.count_nonzero(selected) == 0:\n",
    "        print(\"Ending iterations early.\")\n",
    "        break\n",
    "        \n",
    "    exp2_adds.append(np.count_nonzero(selected))\n",
    "    data.train.add_to_set(selected, data.usps_train, preds)\n",
    "    data.usps_train.remove_from_set(selected)\n",
    "    \n",
    "    optimize(data.train, num_iterations=1000, silent=True)\n",
    "    exp2_acc.append(print_test_accuracy(data.test, show_confusion_matrix=False, quieter=True, silent=True))"
   ]
  },
  {
   "cell_type": "code",
   "execution_count": null,
   "metadata": {},
   "outputs": [],
   "source": [
    "print(\"Best percent accuracy: \" + str(np.max(exp2_acc)))"
   ]
  },
  {
   "cell_type": "code",
   "execution_count": null,
   "metadata": {},
   "outputs": [],
   "source": [
    "ysb.plot_with_legend(np.arange(len(exp2_acc)), [exp2_acc], [\"Accuracy\"], \"Iterations\", \"Accuracy\")\n",
    "ysb.plot_with_legend(np.arange(len(exp2_adds)), [exp2_adds], [\"No. images added\"], \"Iterations\", \"Images added\")"
   ]
  },
  {
   "cell_type": "markdown",
   "metadata": {},
   "source": [
    "### Experiment 3: repeated iterations of labeling unlabeled images with lower softmax output IF the epistemic uncertainty is low (ie, trust uncertainty more than the softmax output)"
   ]
  },
  {
   "cell_type": "code",
   "execution_count": null,
   "metadata": {},
   "outputs": [],
   "source": [
    "saver.restore(sess=session, save_path='checkpoints/')\n",
    "data = dataset.generate_combined_dataset(mnist_data, usps_data)"
   ]
  },
  {
   "cell_type": "code",
   "execution_count": null,
   "metadata": {},
   "outputs": [],
   "source": [
    "exp3_acc = []\n",
    "exp3_adds = []\n",
    "\n",
    "print(\"-- Experiment 3 --\")\n",
    "\n",
    "for i in range(bootstrap_iterations):\n",
    "    usps_train_preds = retrieve_predictions(data.usps_train)\n",
    "    softmax_selected = cn.split_by_threshold(0.7, usps_train_preds, silent=True)\n",
    "    \n",
    "    preds, uncertainties = monte_carlo_preds(data.usps_train, 100, show_confusion_matrix=False, quieter=True)\n",
    "    bay_selected = np.where(uncertainties < 0.3, 1, 0)\n",
    "    \n",
    "    selected = softmax_selected\n",
    "    for j, s in enumerate(softmax_selected):\n",
    "        if bay_selected[j] > 0:\n",
    "            selected[j] = 0 # Unselect the ones\n",
    "    \n",
    "    if np.count_nonzero(selected) >= data.train.num_images or np.count_nonzero(selected) == 0:\n",
    "        print(\"Ending iterations early.\")\n",
    "        break\n",
    "        \n",
    "    exp3_adds.append(np.count_nonzero(selected))\n",
    "    data.train.add_to_set(selected, data.usps_train, preds)\n",
    "    data.usps_train.remove_from_set(selected)\n",
    "    \n",
    "    optimize(data.train, num_iterations=1000, silent=True)\n",
    "    exp3_acc.append(print_test_accuracy(data.test, show_confusion_matrix=False, quieter=True, silent=True))"
   ]
  },
  {
   "cell_type": "code",
   "execution_count": null,
   "metadata": {},
   "outputs": [],
   "source": [
    "print(\"Best percent accuracy: \" + str(np.max(exp3_acc)))"
   ]
  },
  {
   "cell_type": "code",
   "execution_count": null,
   "metadata": {},
   "outputs": [],
   "source": [
    "ysb.plot_with_legend(np.arange(len(exp3_acc)), [exp3_acc], [\"Accuracy\"], \"Iterations\", \"Accuracy\")\n",
    "ysb.plot_with_legend(np.arange(len(exp3_adds)), [exp3_adds], [\"No. images added\"], \"Iterations\", \"Images added\")"
   ]
  },
  {
   "cell_type": "markdown",
   "metadata": {},
   "source": [
    "### Experiment 4: softmax threshold only."
   ]
  },
  {
   "cell_type": "code",
   "execution_count": null,
   "metadata": {},
   "outputs": [],
   "source": [
    "saver.restore(sess=session, save_path='checkpoints/')\n",
    "data = dataset.generate_combined_dataset(mnist_data, usps_data)"
   ]
  },
  {
   "cell_type": "code",
   "execution_count": null,
   "metadata": {},
   "outputs": [],
   "source": [
    "exp4_acc = []\n",
    "exp4_adds = []\n",
    "\n",
    "print(\"-- Experiment 4 --\")\n",
    "\n",
    "for i in range(bootstrap_iterations):\n",
    "    # print(\"Round \" + str(i) + \":\", end=\" \")\n",
    "\n",
    "    usps_train_preds = retrieve_predictions(data.usps_train)\n",
    "    selected = cn.split_by_threshold(0.99, usps_train_preds, silent=True)\n",
    "    if np.count_nonzero(selected) >= data.train.num_images or np.count_nonzero(selected) == 0:\n",
    "        print(\"Ending iterations early.\")\n",
    "        break\n",
    "        \n",
    "    exp4_adds.append(np.count_nonzero(selected))\n",
    "    data.train.add_to_set(selected, data.usps_train, usps_train_preds)\n",
    "    data.usps_train.remove_from_set(selected)\n",
    "    \n",
    "    optimize(data.train, num_iterations=1000, silent=True)\n",
    "    exp4_acc.append(print_test_accuracy(data.test, show_confusion_matrix=False, quieter=True, silent=True))"
   ]
  },
  {
   "cell_type": "markdown",
   "metadata": {},
   "source": [
    "## Comparison from both experiments."
   ]
  },
  {
   "cell_type": "code",
   "execution_count": null,
   "metadata": {
    "collapsed": true
   },
   "outputs": [],
   "source": [
    "x_range = min(len(exp1_acc), len(exp2_acc), len(exp3_acc), len(exp4_acc))"
   ]
  },
  {
   "cell_type": "code",
   "execution_count": null,
   "metadata": {},
   "outputs": [],
   "source": [
    "ysb.plot_with_legend(np.arange(x_range), [exp1_acc[:x_range], exp2_acc[:x_range], exp3_acc[:x_range], exp4_acc[:x_range]], [\"Exp 1\", \"Exp 2\", \"Exp 3\", \"Exp 4\"], \"Iterations\", \"Accuracy\")"
   ]
  },
  {
   "cell_type": "code",
   "execution_count": null,
   "metadata": {},
   "outputs": [],
   "source": [
    "ysb.plot_with_legend(np.arange(x_range), [exp1_adds[:x_range], exp2_adds[:x_range], exp3_acc[:x_range], exp4_acc[:x_range]], [\"Exp 1\", \"Exp 2\", \"Exp 3\", \"Exp 4\"], \"Iterations\", \"No. images added per iteration\")"
   ]
  },
  {
   "cell_type": "markdown",
   "metadata": {
    "collapsed": true
   },
   "source": [
    "## Close TensorFlow session\n",
    "\n",
    "Releases all resources! Run only when prepared to lose saved CNN model."
   ]
  },
  {
   "cell_type": "code",
   "execution_count": 234,
   "metadata": {
    "collapsed": true
   },
   "outputs": [],
   "source": [
    "session.close()"
   ]
  },
  {
   "cell_type": "code",
   "execution_count": null,
   "metadata": {
    "collapsed": true
   },
   "outputs": [],
   "source": []
  },
  {
   "cell_type": "code",
   "execution_count": null,
   "metadata": {
    "collapsed": true
   },
   "outputs": [],
   "source": []
  }
 ],
 "metadata": {
  "kernelspec": {
   "display_name": "Python 3",
   "language": "python",
   "name": "python3"
  },
  "language_info": {
   "codemirror_mode": {
    "name": "ipython",
    "version": 3
   },
   "file_extension": ".py",
   "mimetype": "text/x-python",
   "name": "python",
   "nbconvert_exporter": "python",
   "pygments_lexer": "ipython3",
   "version": "3.6.1"
  }
 },
 "nbformat": 4,
 "nbformat_minor": 2
}
