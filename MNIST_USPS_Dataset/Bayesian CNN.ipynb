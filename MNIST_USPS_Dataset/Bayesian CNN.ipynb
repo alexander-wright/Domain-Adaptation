{
 "cells": [
  {
   "cell_type": "markdown",
   "metadata": {},
   "source": [
    "# Bayesian tri-training for semi-supervised domain adaptation\n",
    "\n",
    "A tri-training bootstrapped approach to domain adaptation for MNIST to USPS using a Bayesian CNN.\n",
    "\n",
    "Author: @ysbecca, see my [personal blog](ybecca.github.io) for contact.\n",
    "\n",
    "Credits go to:\n",
    "\n",
    "- Kuniaki Saito, Yoshitaka Ushiku, Tatsuya Harada, for their work in \"Asymmetric Tri-training for Unsupervised Domain Adaptation\" which is used as a base for this approach.\n",
    "- [Hvass-Labs](http://www.hvass-labs.org/) for the base CNN model for MNIST classification. The basics of their CNN was customised and added to for this work.\n",
    "- [Leo Pauly](https://github.com/leopauly) for the research interest in general.\n",
    "- Kyle Dorman, Yarin Gal, Alex Kendall for their work in Bayesian deep learning (specific papers referenced below)"
   ]
  },
  {
   "cell_type": "code",
   "execution_count": 1,
   "metadata": {
    "collapsed": true
   },
   "outputs": [],
   "source": [
    "import tensorflow as tf\n",
    "import numpy as np\n",
    "from sklearn.metrics import confusion_matrix\n",
    "import matplotlib.pyplot as plt\n",
    "from datetime import timedelta\n",
    "from importlib import reload\n",
    "import math\n",
    "import time\n",
    "\n",
    "# Custom scripts.\n",
    "import ysb\n",
    "import dataset\n",
    "import mnist_usps as mnus\n",
    "import cnn_helper as cn"
   ]
  },
  {
   "cell_type": "code",
   "execution_count": 2,
   "metadata": {},
   "outputs": [
    {
     "data": {
      "text/plain": [
       "<module 'ysb' from '/home/ufaserv1_k/sc16rsmy/Domain-Adaptation/MNIST_USPS_Dataset/ysb.py'>"
      ]
     },
     "execution_count": 2,
     "metadata": {},
     "output_type": "execute_result"
    }
   ],
   "source": [
    "reload(mnus)\n",
    "reload(dataset)\n",
    "reload(cn)\n",
    "reload(ysb)"
   ]
  },
  {
   "cell_type": "markdown",
   "metadata": {},
   "source": [
    "Set parameters."
   ]
  },
  {
   "cell_type": "code",
   "execution_count": 3,
   "metadata": {
    "collapsed": true
   },
   "outputs": [],
   "source": [
    "# Shared net parameters\n",
    "filter_size1 = 5          # Convolution filters are 5 x 5 pixels.\n",
    "num_filters1 = 32         # There are 16 of these filters.\n",
    "\n",
    "filter_size2 = 5         \n",
    "num_filters2 = 48    \n",
    "\n",
    "# Individual net parameters (for now we assume both fully connected layers have the same number of units)\n",
    "fc_size = 100\n",
    "\n",
    "# IMAGE PARAMETERS\n",
    "img_size = 16             # Width and height in pixels.\n",
    "\n",
    "# Images are stored in one-dimensional arrays of this length.\n",
    "img_size_flat = img_size * img_size\n",
    "\n",
    "# Tuple with height and width of images used to reshape arrays.\n",
    "img_shape = (img_size, img_size)\n",
    "\n",
    "# Number of colour channels for the images: 1 channel for gray-scale.\n",
    "num_channels = 1\n",
    "\n",
    "# Number of classes, one class for each of 10 digits.\n",
    "num_classes = 10"
   ]
  },
  {
   "cell_type": "markdown",
   "metadata": {},
   "source": [
    "## Load both datasets."
   ]
  },
  {
   "cell_type": "code",
   "execution_count": 4,
   "metadata": {
    "collapsed": true
   },
   "outputs": [],
   "source": [
    "mnist_data, usps_data = dataset.read_datasets()"
   ]
  },
  {
   "cell_type": "code",
   "execution_count": 5,
   "metadata": {},
   "outputs": [
    {
     "name": "stdout",
     "output_type": "stream",
     "text": [
      "MNIST dataset:\n",
      "- Training-set:\t\t49000\n",
      "- Test-set:\t\t14000\n",
      "- Validation-set:\t7000\n",
      "USPS dataset:\n",
      "- Training-set:\t\t7439\n",
      "- Test-set:\t\t1859\n"
     ]
    }
   ],
   "source": [
    "print(\"MNIST dataset:\")\n",
    "print(\"- Training-set:\\t\\t{}\".format(mnist_data.train.num_images))\n",
    "print(\"- Test-set:\\t\\t{}\".format(mnist_data.test.num_images))\n",
    "print(\"- Validation-set:\\t{}\".format(mnist_data.valid.num_images))\n",
    "\n",
    "print(\"USPS dataset:\")\n",
    "print(\"- Training-set:\\t\\t{}\".format(usps_data.train.num_images))\n",
    "print(\"- Test-set:\\t\\t{}\".format(usps_data.test.num_images))"
   ]
  },
  {
   "cell_type": "code",
   "execution_count": 6,
   "metadata": {},
   "outputs": [
    {
     "data": {
      "image/png": "[encoded data removed]",
      "text/plain": [
       "<matplotlib.figure.Figure at 0x2b810a974470>"
      ]
     },
     "metadata": {},
     "output_type": "display_data"
    },
    {
     "data": {
      "image/png": "[encoded data removed]",
      "text/plain": [
       "<matplotlib.figure.Figure at 0x2b810de13d68>"
      ]
     },
     "metadata": {},
     "output_type": "display_data"
    }
   ],
   "source": [
    "i = 0\n",
    "to_show = 10\n",
    "ysb.show_labeled_patches_gray(mnist_data.train.images[i:(i+to_show)], mnist_data.train.cls[i:(i+to_show)])\n",
    "ysb.show_labeled_patches_gray(usps_data.train.images[i:(i+to_show)], usps_data.train.cls[i:(i+to_show)])"
   ]
  },
  {
   "cell_type": "markdown",
   "metadata": {},
   "source": [
    "## Build the four networks\n",
    "\n",
    "The first network, the shared network, will feed into the three tri-training networks: two labeling networks and one target-specific network."
   ]
  },
  {
   "cell_type": "code",
   "execution_count": 9,
   "metadata": {
    "collapsed": true
   },
   "outputs": [],
   "source": [
    "x = tf.placeholder(tf.float32, shape=[None, img_size_flat], name='x')\n",
    "x_image = tf.reshape(x, [-1, img_size, img_size, num_channels])\n",
    "\n",
    "y_true = tf.placeholder(tf.float32, shape=[None, num_classes], name='y_true')\n",
    "y_true_cls = tf.argmax(y_true, dimension=1)\n",
    "\n",
    "keep_prob = tf.placeholder(tf.float32) # So we can control dropout.\n",
    "keep_prob_target = tf.placeholder(tf.float32) # Separate dropout rate for the target-only network."
   ]
  },
  {
   "cell_type": "markdown",
   "metadata": {},
   "source": [
    "Build TensorFlow graph for the shared network."
   ]
  },
  {
   "cell_type": "code",
   "execution_count": 10,
   "metadata": {
    "collapsed": true
   },
   "outputs": [],
   "source": [
    "shared_net = \\\n",
    "    cn.new_conv_layer(input=x_image,\n",
    "                   num_input_channels=num_channels,\n",
    "                   filter_size=filter_size1,\n",
    "                   num_filters=num_filters1,\n",
    "                   use_pooling=True)\n",
    "shared_net = \\\n",
    "    cn.new_conv_layer(input=shared_net,\n",
    "                   num_input_channels=num_filters1,\n",
    "                   filter_size=filter_size2,\n",
    "                   num_filters=num_filters2,\n",
    "                   use_pooling=True)\n",
    "shared_net, features = cn.flatten_layer(shared_net)"
   ]
  },
  {
   "cell_type": "markdown",
   "metadata": {},
   "source": [
    "Now we build the three independent networks, which are identical."
   ]
  },
  {
   "cell_type": "code",
   "execution_count": 11,
   "metadata": {
    "scrolled": false
   },
   "outputs": [],
   "source": [
    "# Labeling network F1\n",
    "f1_net, _ = cn.new_fc_layer(input=shared_net,       \n",
    "                         num_inputs=features,\n",
    "                         num_outputs=fc_size,\n",
    "                         use_relu=True)\n",
    "f1_net, f1_w_out = cn.new_fc_layer(input=f1_net,       \n",
    "                         num_inputs=fc_size,\n",
    "                         num_outputs=fc_size,\n",
    "                         use_relu=True)\n",
    "f1_net = tf.nn.dropout(f1_net, keep_prob=keep_prob)\n",
    "f1_net, _ = cn.new_fc_layer(input=f1_net,             # This is the classification layer.\n",
    "                         num_inputs=fc_size,\n",
    "                         num_outputs=num_classes,            # num_classes = 10\n",
    "                         use_relu=False)\n",
    "f1_y_pred = tf.nn.softmax(f1_net)                    \n",
    "f1_y_pred_cls = tf.argmax(f1_y_pred, dimension=1)\n",
    "\n",
    "\n",
    "# Labeling network F2\n",
    "f2_net, _ = cn.new_fc_layer(input=shared_net,\n",
    "                         num_inputs=features,\n",
    "                         num_outputs=fc_size,\n",
    "                         use_relu=True)\n",
    "f2_net, f2_w_out = cn.new_fc_layer(input=f2_net,          \n",
    "                         num_inputs=fc_size,\n",
    "                         num_outputs=fc_size,\n",
    "                         use_relu=True)\n",
    "f2_net = tf.nn.dropout(f2_net, keep_prob=keep_prob)\n",
    "f2_net, _ = cn.new_fc_layer(input=f2_net,          \n",
    "                         num_inputs=fc_size,\n",
    "                         num_outputs=num_classes,\n",
    "                         use_relu=True)\n",
    "f2_y_pred = tf.nn.softmax(f2_net)                    \n",
    "f2_y_pred_cls = tf.argmax(f2_y_pred, dimension=1)\n",
    "\n",
    "# # Labeling network F3\n",
    "f3_net, _ = cn.new_fc_layer(input=shared_net,\n",
    "                         num_inputs=features,\n",
    "                         num_outputs=fc_size,\n",
    "                         use_relu=True)\n",
    "f3_net, _ = cn.new_fc_layer(input=f3_net,          \n",
    "                         num_inputs=fc_size,\n",
    "                         num_outputs=fc_size,\n",
    "                         use_relu=True)\n",
    "f3_net = tf.nn.dropout(f3_net, keep_prob=keep_prob)\n",
    "f3_net, _ = cn.new_fc_layer(input=f3_net,          \n",
    "                         num_inputs=fc_size,\n",
    "                         num_outputs=num_classes,\n",
    "                         use_relu=True)\n",
    "f3_y_pred = tf.nn.softmax(f3_net)                    \n",
    "f3_y_pred_cls = tf.argmax(f3_y_pred, dimension=1)"
   ]
  },
  {
   "cell_type": "markdown",
   "metadata": {},
   "source": [
    "Now we define the cost for each network."
   ]
  },
  {
   "cell_type": "code",
   "execution_count": 12,
   "metadata": {
    "collapsed": true
   },
   "outputs": [],
   "source": [
    "# Cost for the three networks\n",
    "f1_cost = tf.reduce_mean(tf.nn.softmax_cross_entropy_with_logits(logits=f1_net, labels=y_true))\n",
    "f2_cost = tf.reduce_mean(tf.nn.softmax_cross_entropy_with_logits(logits=f2_net, labels=y_true))\n",
    "f3_cost = tf.reduce_mean(tf.nn.softmax_cross_entropy_with_logits(logits=f3_net, labels=y_true))\n",
    "\n",
    "# Overall tri-network costs, with a constraint for the weights of F1, F2 to force their inputs to be diffferent.\n",
    "weight_constraint = tf.reduce_sum( \\\n",
    "                        tf.abs( \\\n",
    "                        tf.multiply( \\\n",
    "                        tf.transpose(f1_w_out), f2_w_out)))\n",
    "cost = f1_cost + f2_cost + f3_cost + weight_constraint\n",
    "labeling_cost = f1_cost + f2_cost + weight_constraint\n",
    "target_only_cost = f3_cost\n",
    "\n",
    "# Optimisation functions\n",
    "optimizer_all = tf.train.AdamOptimizer(learning_rate=1e-4).minimize(cost)\n",
    "optimizer_f1f2 = tf.train.AdamOptimizer(learning_rate=1e-4).minimize(labeling_cost)\n",
    "optimizer_f3 = tf.train.AdamOptimizer(learning_rate=1e-4).minimize(target_only_cost)\n",
    "\n",
    "# Individual network accuracies\n",
    "f1_accuracy = tf.reduce_mean(tf.cast(tf.equal(f1_y_pred_cls, y_true_cls), tf.float32))\n",
    "f2_accuracy = tf.reduce_mean(tf.cast(tf.equal(f2_y_pred_cls, y_true_cls), tf.float32))\n",
    "f3_accuracy = tf.reduce_mean(tf.cast(tf.equal(f3_y_pred_cls, y_true_cls), tf.float32))"
   ]
  },
  {
   "cell_type": "markdown",
   "metadata": {},
   "source": [
    "Now we create a new TensorFlow session and initialise the variables."
   ]
  },
  {
   "cell_type": "code",
   "execution_count": 30,
   "metadata": {
    "collapsed": true
   },
   "outputs": [],
   "source": [
    "tf.set_random_seed(1)\n",
    "np.random.seed(0)\n",
    "\n",
    "session = tf.Session()\n",
    "session.run(tf.global_variables_initializer())\n",
    "train_batch_size = 128\n",
    "test_batch_size = 64\n",
    "\n",
    "saver = tf.train.Saver()"
   ]
  },
  {
   "cell_type": "markdown",
   "metadata": {},
   "source": [
    "Helper functions for running optimisation iterations and showing test accuracy."
   ]
  },
  {
   "cell_type": "code",
   "execution_count": 31,
   "metadata": {
    "collapsed": true
   },
   "outputs": [],
   "source": [
    "# Counter for total number of iterations performed so far.\n",
    "total_iterations = 0\n",
    "\n",
    "def optimize(dataset_train, num_iterations, silent=False, dropout_keep_prob=1.0, optimizers=[]):\n",
    "    global total_iterations\n",
    "    start_time = time.time()\n",
    "    for i in range(total_iterations,\n",
    "                   total_iterations + num_iterations):\n",
    "        x_batch, y_true_batch = dataset_train.next_batch(train_batch_size)\n",
    "        x_batch = x_batch.reshape(len(x_batch), img_size_flat)\n",
    "        feed_dict_train = {x: x_batch, y_true: y_true_batch, keep_prob: dropout_keep_prob}\n",
    "\n",
    "        # [optimizer_all, optimizer_f1f2, optimizer_f3]\n",
    "        session.run(optimizers, feed_dict=feed_dict_train)\n",
    "\n",
    "        # Print status every 250 iterations.\n",
    "        if i % 250 == 0:\n",
    "            # Calculate the accuracy on the training-set.\n",
    "            acc_f1, acc_f2, acc_f3 = session.run([f1_accuracy, f2_accuracy, f3_accuracy], feed_dict=feed_dict_train)\n",
    "\n",
    "            if not silent:\n",
    "                msg = \"Optimization Iteration: {0:>6}, Accuracy F1 {1:.1%}, F2 {2:.1%}, F3 {3:.1%}\"\n",
    "                print(msg.format(i+1, acc_f1, acc_f2, acc_f3))\n",
    "\n",
    "    total_iterations += num_iterations\n",
    "\n",
    "    end_time = time.time()\n",
    "    time_dif = end_time - start_time\n",
    "    if not silent:\n",
    "        print(\"Time usage: \" + str(timedelta(seconds=int(round(time_dif)))))\n",
    "    \n",
    "def print_test_accuracy(dataset_test, show_confusion_matrix=False, quieter=True, silent=True):\n",
    "    num_test = len(dataset_test.images)\n",
    "    cls_pred_f1 = np.zeros(shape=num_test, dtype=np.int)\n",
    "    cls_pred_f2 = np.zeros(shape=num_test, dtype=np.int)\n",
    "    cls_pred_f3 = np.zeros(shape=num_test, dtype=np.int)\n",
    "    \n",
    "    i = 0\n",
    "\n",
    "    while i < num_test:\n",
    "        j = min(i + test_batch_size, num_test)\n",
    "        curr_batch_size = j - i\n",
    "        \n",
    "        # Get the images and targets from the test-set between index i and j.\n",
    "        images = dataset_test.images[i:j, :].reshape(curr_batch_size, img_size_flat)\n",
    "        labels = dataset_test.labels[i:j, :]\n",
    "        feed_dict = {x: images, y_true: labels, keep_prob: 1.0}\n",
    "\n",
    "        cls_pred_f1[i:j], cls_pred_f2[i:j], cls_pred_f3[i:j] = \\\n",
    "                        session.run([f1_y_pred_cls, f2_y_pred_cls, f3_y_pred_cls], feed_dict=feed_dict)\n",
    "        i = j\n",
    "\n",
    "    cls_true = dataset_test.cls\n",
    "\n",
    "    # Create a boolean array whether each image is correctly classified.\n",
    "    correct_f1, correct_f2, correct_f3 = \\\n",
    "            (cls_true == cls_pred_f1), (cls_true == cls_pred_f2), (cls_true == cls_pred_f3)\n",
    "    \n",
    "    correct_sum_f1, correct_sum_f2, correct_sum_f3 = correct_f1.sum(), correct_f2.sum(), correct_f3.sum()\n",
    "    acc_f1, acc_f2, acc_f3 = \\\n",
    "        float(correct_sum_f1) / num_test, float(correct_sum_f2) / num_test, float(correct_sum_f3) / num_test\n",
    "\n",
    "    msg = \"Accuracy on test set: F1 {0:.1%}, F2 {1:.1%}, F3 {2:.1%}\"\n",
    "    if not quieter:\n",
    "        print(msg.format(acc_f1, acc_f2, acc_f3))\n",
    "    else:\n",
    "        if not silent:\n",
    "            print(msg.format(acc_f1, acc_f2, acc_f3))\n",
    "    \n",
    "    if show_confusion_matrix:\n",
    "        # Show confusion matrix for F3 only\n",
    "        cn.plot_confusion_matrix(cls_true, cls_pred=cls_pred_f3)\n",
    "    return acc_f1, acc_f2, acc_f3"
   ]
  },
  {
   "cell_type": "markdown",
   "metadata": {},
   "source": [
    "## First, we train all the networks on the labeled source data set.\n",
    "\n",
    "- MNIST to USPS"
   ]
  },
  {
   "cell_type": "code",
   "execution_count": 32,
   "metadata": {
    "scrolled": false
   },
   "outputs": [
    {
     "data": {
      "text/plain": [
       "(0.13364285714285715, 0.11171428571428571, 0.10371428571428572)"
      ]
     },
     "execution_count": 32,
     "metadata": {},
     "output_type": "execute_result"
    }
   ],
   "source": [
    "print_test_accuracy(mnist_data.test, show_confusion_matrix=False)"
   ]
  },
  {
   "cell_type": "code",
   "execution_count": 33,
   "metadata": {
    "scrolled": false
   },
   "outputs": [
    {
     "name": "stdout",
     "output_type": "stream",
     "text": [
      "Optimization Iteration:      1, Accuracy F1 17.2%, F2 11.7%, F3 11.7%\n",
      "Time usage: 0:00:00\n"
     ]
    }
   ],
   "source": [
    "optimize(mnist_data.train, num_iterations=10, silent=False, optimizers=[optimizer_all], dropout_keep_prob=0.8)"
   ]
  },
  {
   "cell_type": "code",
   "execution_count": 34,
   "metadata": {},
   "outputs": [
    {
     "data": {
      "text/plain": [
       "(0.199, 0.14757142857142858, 0.10885714285714286)"
      ]
     },
     "execution_count": 34,
     "metadata": {},
     "output_type": "execute_result"
    }
   ],
   "source": [
    "print_test_accuracy(mnist_data.test, show_confusion_matrix=False)"
   ]
  },
  {
   "cell_type": "code",
   "execution_count": 35,
   "metadata": {
    "collapsed": true
   },
   "outputs": [],
   "source": [
    "optimize(mnist_data.train, num_iterations=15000, silent=True, optimizers=[optimizer_all], dropout_keep_prob=0.8)"
   ]
  },
  {
   "cell_type": "code",
   "execution_count": 36,
   "metadata": {},
   "outputs": [
    {
     "name": "stdout",
     "output_type": "stream",
     "text": [
      "[[1374    1    5    0    0    2    4    0    5    1]\n",
      " [   0 1550    3    1    0    0    2    3    2    3]\n",
      " [   3    1 1403    7    0    1    0    1    6    1]\n",
      " [   2    0    9 1422    0    3    0    2    9    8]\n",
      " [   0    1    1    0 1369    1    2    2    1   10]\n",
      " [   1    1    1   10    1 1223    1    1    6    5]\n",
      " [   7    2    0    0    3    5 1355    0    4    0]\n",
      " [   0    2   12    4    3    1    0 1410    4   16]\n",
      " [   1    2    5    8    0    3    2    0 1316    4]\n",
      " [   3    1    0    4    5    3    0    4    4 1336]]\n"
     ]
    },
    {
     "data": {
      "image/png": "[encoded data removed]",
      "text/plain": [
       "<matplotlib.figure.Figure at 0x2b8112eb9048>"
      ]
     },
     "metadata": {},
     "output_type": "display_data"
    },
    {
     "data": {
      "text/plain": [
       "(0.9819285714285715, 0.983, 0.9827142857142858)"
      ]
     },
     "execution_count": 36,
     "metadata": {},
     "output_type": "execute_result"
    }
   ],
   "source": [
    "print_test_accuracy(mnist_data.test, show_confusion_matrix=True)"
   ]
  },
  {
   "cell_type": "markdown",
   "metadata": {},
   "source": [
    "Now we save the CNN model which has been trained on MNIST."
   ]
  },
  {
   "cell_type": "code",
   "execution_count": 37,
   "metadata": {},
   "outputs": [
    {
     "data": {
      "text/plain": [
       "'checkpoints/'"
      ]
     },
     "execution_count": 37,
     "metadata": {},
     "output_type": "execute_result"
    }
   ],
   "source": [
    "saver.save(sess=session, save_path='checkpoints/')"
   ]
  },
  {
   "cell_type": "markdown",
   "metadata": {},
   "source": [
    "## Labeling function based on output of F1 and F2 and epistemic uncertainty (approximated) on target dataset\n",
    "\n",
    "\"We can model epistemic uncertainty in deep learning models using Monte Carlo dropout sampling at test time.\n",
    "Dropout sampling can be interpreted as sampling from a distribution over models.\"\n",
    "\n",
    "Credits:\n",
    "\n",
    "- Alex Kendall's presentation: https://alexgkendall.com/media/presentations/oxford_seminar.pdf\n",
    "- Yarin Gal's paper \"Dropout as a Bayesian Approximation Representing Model Uncertainty in Deep Learning\" http://proceedings.mlr.press/v48/gal16.pdf\n",
    "- Kyle Dorman's post \"Building a Bayesian Deep Learning Classifier\" https://medium.com/towards-data-science/building-a-bayesian-deep-learning-classifier-ece1845bc09"
   ]
  },
  {
   "cell_type": "markdown",
   "metadata": {},
   "source": [
    "Now test on USPS test set, then run the CNN on the entire training set (we treat the training set as if it is completely unlabeled) and save softmax outputs."
   ]
  },
  {
   "cell_type": "code",
   "execution_count": 39,
   "metadata": {},
   "outputs": [
    {
     "name": "stdout",
     "output_type": "stream",
     "text": [
      "[[209   0   3  24   0  46   1   0  24   8]\n",
      " [  0 139   0   1   0   0   0   0 126   0]\n",
      " [  0   3 147  16   0   0   0   0   5   0]\n",
      " [  0   1   0 178   0   0   0   0   2   0]\n",
      " [  0   3   2   0 115   2  10   0  17   7]\n",
      " [  0   0   0  35   0 109   0   0   8   1]\n",
      " [  1   0   1   0   0   4 121   0  42   0]\n",
      " [  0  16  11 109   0   3   1   8  16   5]\n",
      " [  0   0   0   4   0   5   1   0 130   0]\n",
      " [  0   0   0  46   7   9   0   1  68   8]]\n"
     ]
    },
    {
     "data": {
      "image/png": "[encoded data removed]",
      "text/plain": [
       "<matplotlib.figure.Figure at 0x2b8111e163c8>"
      ]
     },
     "metadata": {},
     "output_type": "display_data"
    },
    {
     "data": {
      "text/plain": [
       "(0.6164604626143088, 0.5911780527165142, 0.6261430876815492)"
      ]
     },
     "execution_count": 39,
     "metadata": {},
     "output_type": "execute_result"
    }
   ],
   "source": [
    "print_test_accuracy(usps_data.test, show_confusion_matrix=True)"
   ]
  },
  {
   "cell_type": "markdown",
   "metadata": {},
   "source": [
    "Now we want to bootstrap (also called self-learning) by iteratively pseudo-labeling *target data* based on the assumption, as shown above, that the datasets have enough similarities that the networks trained on source data already can correctly label the majority (>50%) of the target data. We pseudo-label target data IFF:\n",
    "\n",
    "1. F1's prediction agrees with F2's prediction.\n",
    "2. Both networks' predictions are quite certain; ie, epistemic uncertainty is low for both.\n",
    "\n",
    "The shared network (shared_net), F1, and F2 will be trained on source data + the pseudo-labeled target data, while the *F3 will be trained on pseudo-labeled target data alone*."
   ]
  },
  {
   "cell_type": "code",
   "execution_count": 40,
   "metadata": {
    "collapsed": true
   },
   "outputs": [],
   "source": [
    "# T is the number of iterations for sampling. This needs to be run once for every network, to avoid sharing data.\n",
    "def monte_carlo_preds(dataset_test, T, show_confusion_matrix=True, quieter=False, silent=False, y_pred=None):\n",
    "    num_test = len(dataset_test.images)\n",
    "    all_cls_preds = np.zeros(shape=(T, num_test, 10), dtype=np.float64)\n",
    "    cls_true = dataset_test.cls\n",
    "    \n",
    "    if num_test == 0:\n",
    "        return [], []\n",
    "    \n",
    "    for k in range(T):\n",
    "        i = 0\n",
    "        cls_preds = np.zeros(shape=(num_test, 10), dtype=np.float64)\n",
    "        \n",
    "        while i < num_test:\n",
    "            j = min(i + test_batch_size, num_test)\n",
    "            curr_batch_size = j - i\n",
    "\n",
    "            # Get the images and targets from the test-set between index i and j.\n",
    "            images = dataset_test.images[i:j, :].reshape(curr_batch_size, img_size_flat)\n",
    "            labels = dataset_test.labels[i:j, :]\n",
    "            feed_dict = {x: images, y_true: labels, keep_prob: 0.1}\n",
    "\n",
    "            # For each T iterations, we want all the softmax outputs from each prediction (N, 10)\n",
    "            # where N is the input size. all_cls_preds should have shape (T, N, 10).\n",
    "            cls_preds[i:j] = session.run(y_pred, feed_dict=feed_dict)\n",
    "            i = j\n",
    "\n",
    "        all_cls_preds[k] = cls_preds\n",
    "\n",
    "    # (N, 10)\n",
    "    prediction_probabilities = np.mean(all_cls_preds, axis=0)\n",
    "\n",
    "    # (N) one variance for each input.\n",
    "    prediction_variances = np.apply_along_axis(predictive_entropy, axis=1, arr=prediction_probabilities) \n",
    "\n",
    "    return prediction_probabilities, prediction_variances\n",
    "\n",
    "def predictive_entropy(prediction_probabilities):\n",
    "    return -1 * np.sum(np.log(prediction_probabilities) * prediction_probabilities, axis=0)\n",
    "\n",
    "def retrieve_f1f2_predictions(dataset):\n",
    "    ''' Retrieves the probabilities (not predicted classes) on the given DataSet object; one run only, no dropout. '''\n",
    "    num_test = len(dataset.images)\n",
    "\n",
    "    # Allocate an array for the class probabilities which will be calculated in batches and added\n",
    "    # onto this array; this first element is a dummy to maintain shape as we will add in batches.\n",
    "    cls_prob_f1 = np.zeros(shape=(1, num_classes), dtype=np.int)\n",
    "    cls_prob_f2 = np.zeros(shape=(1, num_classes), dtype=np.int)\n",
    "    i = 0\n",
    "\n",
    "    while i < num_test:\n",
    "        j = min(i + test_batch_size, num_test)\n",
    "        curr_batch_size = j - i\n",
    "        images = dataset.images[i:j, :].reshape(curr_batch_size, img_size_flat)\n",
    "        labels = dataset.labels[i:j, :]\n",
    "        feed_dict = {x: images, y_true: labels, keep_prob: 1.0}\n",
    "\n",
    "        f1_preds, f2_preds = session.run([f1_y_pred, f2_y_pred], feed_dict=feed_dict)\n",
    "        cls_prob_f1 = np.concatenate((cls_prob_f1, f1_preds), axis=0)\n",
    "        cls_prob_f2 = np.concatenate((cls_prob_f2, f2_preds), axis=0)\n",
    "        \n",
    "        i = j\n",
    "    \n",
    "    cls_prob_f1 = np.delete(cls_prob_f1, 0, 0) # Remove the first dummy element now.\n",
    "    cls_prob_f2 = np.delete(cls_prob_f2, 0, 0)\n",
    "    return cls_prob_f1, cls_prob_f2\n",
    "\n",
    "\n",
    "def select_criteria(mc_selected_f1, mc_selected_f2, target_preds):\n",
    "    f1_preds = np.argmax(target_preds[0], axis=1)\n",
    "    f2_preds = np.argmax(target_preds[1], axis=1)\n",
    "    \n",
    "    selected = np.zeros((len(f1_preds)))\n",
    "    count = 0\n",
    "    \n",
    "    for i in range(len(f1_preds)):\n",
    "        if(f1_preds[i] == f2_preds[i] and mc_selected_f1[i] > 0 and mc_selected_f2[i] > 0):\n",
    "            selected[i] = 1\n",
    "            count += 1\n",
    "    print(\"Number of training images qualifying for pseudo-labeling: \" + str(count))\n",
    "    return selected, count"
   ]
  },
  {
   "cell_type": "markdown",
   "metadata": {},
   "source": [
    "## Experimenting with epistemic uncertainty using the target test set (labeled).\n",
    "\n",
    "Remember to reset the CNN model back to the checkpoint before each new experiment, as well as re-designating the dataset. The data object for tri-training includes four different DataSet classes:\n",
    "\n",
    "    1. data.test - target.test only\n",
    "    2. data.pseudo - pseudo-labeled target training images\n",
    "    3. data.train - data.pseudo + source images\n",
    "    4. data.target - unlabeled target training images"
   ]
  },
  {
   "cell_type": "code",
   "execution_count": 41,
   "metadata": {},
   "outputs": [
    {
     "name": "stdout",
     "output_type": "stream",
     "text": [
      "INFO:tensorflow:Restoring parameters from checkpoints/\n"
     ]
    }
   ],
   "source": [
    "saver.restore(sess=session, save_path='checkpoints/')\n",
    "data = dataset.generate_combined_dataset(source=mnist_data, target=usps_data)"
   ]
  },
  {
   "cell_type": "code",
   "execution_count": 42,
   "metadata": {
    "collapsed": true
   },
   "outputs": [],
   "source": [
    "preds, uncertainties = monte_carlo_preds( \\\n",
    "                    data.test, 50, show_confusion_matrix=True, quieter=True, y_pred=f3_y_pred)"
   ]
  },
  {
   "cell_type": "markdown",
   "metadata": {},
   "source": [
    "First we will demonstrate that cases exist where bootstrapping using the softmax threshold would result in mislabelling, whereas the epistemic uncertainty provides a warning that the classifier is uncertain."
   ]
  },
  {
   "cell_type": "code",
   "execution_count": 43,
   "metadata": {
    "scrolled": false
   },
   "outputs": [
    {
     "name": "stdout",
     "output_type": "stream",
     "text": [
      "Labels: Epistemic uncertainty, softmax prediction, actual class.\n"
     ]
    },
    {
     "data": {
      "image/png": "[encoded data removed]",
      "text/plain": [
       "<matplotlib.figure.Figure at 0x2b81119a76a0>"
      ]
     },
     "metadata": {},
     "output_type": "display_data"
    }
   ],
   "source": [
    "i = 0\n",
    "to_show = 20\n",
    "\n",
    "printed_uncertainty = [round(a, 4) for a in uncertainties]\n",
    "print(\"Labels: Epistemic uncertainty, softmax prediction, actual class.\")\n",
    "\n",
    "ysb.show_images_with_three_labels_gray(usps_data.test.images[i:(i+to_show)], printed_uncertainty[i:(i+to_show)], \\\n",
    "                                       np.argmax(preds[i:to_show], axis=1), usps_data.test.cls[i:to_show])"
   ]
  },
  {
   "cell_type": "markdown",
   "metadata": {},
   "source": [
    "Now we want to calculate, using the test round above, what the softmax threshold should be. We will look at the epistemic uncertainty for all the cases where the true class is different from the softmax prediction."
   ]
  },
  {
   "cell_type": "code",
   "execution_count": 44,
   "metadata": {},
   "outputs": [
    {
     "name": "stdout",
     "output_type": "stream",
     "text": [
      "For the USPS test set:\n",
      "  - 669 cases.\n",
      "  - Mean uncertainty: 1.82210176081\n",
      "  - Maximum uncertainty: 2.16107944113\n",
      "  - Minimum uncertainty: 1.22726302381\n"
     ]
    },
    {
     "data": {
      "image/png": "[encoded data removed]",
      "text/plain": [
       "<matplotlib.figure.Figure at 0x2b8117efd438>"
      ]
     },
     "metadata": {},
     "output_type": "display_data"
    }
   ],
   "source": [
    "case_epi_unc = []\n",
    "for i, pred in enumerate(np.argmax(preds, axis=1)):\n",
    "    if(pred != data.test.cls[i]):\n",
    "        case_epi_unc.append(uncertainties[i])\n",
    "\n",
    "print(\"For the USPS test set:\")\n",
    "print(\"  - \" + str(len(case_epi_unc)) + \" cases.\")\n",
    "print(\"  - Mean uncertainty: \" + str(np.mean(case_epi_unc)))\n",
    "print(\"  - Maximum uncertainty: \" + str(np.max(case_epi_unc)))\n",
    "print(\"  - Minimum uncertainty: \" + str(np.min(case_epi_unc)))\n",
    "\n",
    "ysb.plot_with_legend(np.arange(len(case_epi_unc)), [np.sort(case_epi_unc)], [\"USPS test\"], \"Cases\", \"Uncertainty\")"
   ]
  },
  {
   "cell_type": "markdown",
   "metadata": {},
   "source": [
    "### Experiment 1: Training for a fixed number of boostrap iterations; pseudo-label everything that qualifies without limit."
   ]
  },
  {
   "cell_type": "code",
   "execution_count": 45,
   "metadata": {
    "scrolled": false
   },
   "outputs": [
    {
     "name": "stdout",
     "output_type": "stream",
     "text": [
      "-- Experiment 1 --\n",
      "Number of training images qualifying for pseudo-labeling: 5592\n",
      "Accuracy on test set: F1 60.2%, F2 61.3%, F3 59.7%\n",
      "Number of training images qualifying for pseudo-labeling: 1355\n",
      "Accuracy on test set: F1 58.9%, F2 59.1%, F3 61.2%\n",
      "Number of training images qualifying for pseudo-labeling: 333\n",
      "Accuracy on test set: F1 60.4%, F2 60.7%, F3 61.0%\n",
      "Number of training images qualifying for pseudo-labeling: 113\n",
      "Accuracy on test set: F1 58.4%, F2 59.9%, F3 60.8%\n",
      "Number of training images qualifying for pseudo-labeling: 25\n",
      "Accuracy on test set: F1 62.8%, F2 62.2%, F3 61.4%\n",
      "Number of training images qualifying for pseudo-labeling: 13\n",
      "Accuracy on test set: F1 59.8%, F2 59.3%, F3 61.2%\n",
      "Number of training images qualifying for pseudo-labeling: 3\n",
      "Accuracy on test set: F1 62.6%, F2 63.0%, F3 62.7%\n",
      "Number of training images qualifying for pseudo-labeling: 1\n",
      "Accuracy on test set: F1 60.2%, F2 60.6%, F3 60.8%\n",
      "Number of training images qualifying for pseudo-labeling: 1\n",
      "Accuracy on test set: F1 60.9%, F2 61.2%, F3 62.0%\n",
      "Number of training images qualifying for pseudo-labeling: 1\n",
      "Accuracy on test set: F1 62.0%, F2 62.0%, F3 62.2%\n",
      "Number of training images qualifying for pseudo-labeling: 0\n",
      "Ending iterations early.\n"
     ]
    }
   ],
   "source": [
    "bootstrap_iterations = 50\n",
    "monte_carlo_iterations = 50\n",
    "exp1_acc = []\n",
    "exp1_adds = []\n",
    "\n",
    "print(\"-- Experiment 1 --\")\n",
    "\n",
    "for i in range(bootstrap_iterations):\n",
    "    # First get predictions for F1 and F2 by running data.target directly through the classifier w/ normal dropout.\n",
    "    target_preds = retrieve_f1f2_predictions(data.target) # [f1_preds, f2_preds]\n",
    "    \n",
    "    # Run Monte Carlo sampling iterations to calculate predictions and epistemic uncertainty for networks F1 and F2.\n",
    "    mc_preds_f1, unc_f1 = monte_carlo_preds(data.train, monte_carlo_iterations, y_pred=f1_y_pred)\n",
    "    mc_selected_f1 = np.where(unc_f1 < 1.7, 1, 0)\n",
    "    \n",
    "    mc_preds_f2, unc_f2 = monte_carlo_preds(data.train, monte_carlo_iterations, y_pred=f2_y_pred)\n",
    "    mc_selected_f2 = np.where(unc_f2 < 1.7, 1, 0)\n",
    "    \n",
    "    selected, count = select_criteria(mc_selected_f1, mc_selected_f2, target_preds)\n",
    "    if count > data.target.num_images or count == 0:\n",
    "        print(\"Ending iterations early.\")\n",
    "        break\n",
    "        \n",
    "    exp1_adds.append(count)\n",
    "    # It doesn't matter which network's predictions we use since they must have agreed in order to label.\n",
    "    data.train.add_to_set(selected, data.target, target_preds[0]) \n",
    "    data.pseudo.add_to_set(selected, data.target, target_preds[0])\n",
    "    data.target.remove_from_set(selected)\n",
    "    \n",
    "    # Now we optimize F1 and F2 based on the updated training set.\n",
    "    # F3 is optimized solely based on category loss from the pseudo-labeled targets.\n",
    "    optimize(data.train, 750, silent=True, dropout_keep_prob=0.85, optimizers=[optimizer_all, optimizer_f1f2])\n",
    "    optimize(data.pseudo, 750, silent=True, dropout_keep_prob=0.5, optimizers=[optimizer_f3])\n",
    "\n",
    "    exp1_acc.append(print_test_accuracy(data.test, show_confusion_matrix=False, quieter=True, silent=False))"
   ]
  },
  {
   "cell_type": "code",
   "execution_count": 46,
   "metadata": {},
   "outputs": [
    {
     "name": "stdout",
     "output_type": "stream",
     "text": [
      "Best percent accuracy on target test data: 0.626681011296\n"
     ]
    }
   ],
   "source": [
    "exp1_acc = np.array(np.asarray(exp1_acc).T)\n",
    "print(\"Best percent accuracy on target test data: \" + str(np.max(exp1_acc[2]))) # F3 accuracy only"
   ]
  },
  {
   "cell_type": "code",
   "execution_count": 47,
   "metadata": {},
   "outputs": [
    {
     "data": {
      "image/png": "[encoded data removed]",
      "text/plain": [
       "<matplotlib.figure.Figure at 0x2b81133d0f98>"
      ]
     },
     "metadata": {},
     "output_type": "display_data"
    },
    {
     "data": {
      "image/png": "[encoded data removed]",
      "text/plain": [
       "<matplotlib.figure.Figure at 0x2b81132dd470>"
      ]
     },
     "metadata": {},
     "output_type": "display_data"
    }
   ],
   "source": [
    "ysb.plot_with_legend(np.arange(len(exp1_acc[2])), [exp1_acc[2]], [\"F3 Accuracy\"], \"Iterations\", \"Target Accuracy\")\n",
    "ysb.plot_with_legend(np.arange(len(exp1_adds)), [exp1_adds], [\"No. images added\"], \"Iterations\", \"Images added\")"
   ]
  },
  {
   "cell_type": "markdown",
   "metadata": {
    "collapsed": true
   },
   "source": [
    "### Experiment 2: resample the pseudo-label candidates at each round to prevent overfitting."
   ]
  },
  {
   "cell_type": "code",
   "execution_count": 51,
   "metadata": {},
   "outputs": [
    {
     "name": "stdout",
     "output_type": "stream",
     "text": [
      "INFO:tensorflow:Restoring parameters from checkpoints/\n"
     ]
    }
   ],
   "source": [
    "saver.restore(sess=session, save_path='checkpoints/')\n",
    "# data = dataset.generate_combined_dataset(mnist_data, usps_data)"
   ]
  },
  {
   "cell_type": "code",
   "execution_count": 52,
   "metadata": {},
   "outputs": [
    {
     "name": "stdout",
     "output_type": "stream",
     "text": [
      "-- Experiment 2 --\n",
      "Number of training images qualifying for pseudo-labeling: 5599\n",
      "Accuracy on test set: F1 62.2%, F2 64.1%, F3 62.6%\n",
      "Number of training images qualifying for pseudo-labeling: 6095\n",
      "Accuracy on test set: F1 60.9%, F2 62.7%, F3 63.5%\n",
      "Number of training images qualifying for pseudo-labeling: 6123\n",
      "Accuracy on test set: F1 63.0%, F2 64.9%, F3 64.5%\n",
      "Number of training images qualifying for pseudo-labeling: 6158\n",
      "Accuracy on test set: F1 63.7%, F2 63.9%, F3 64.3%\n",
      "Number of training images qualifying for pseudo-labeling: 6184\n",
      "Accuracy on test set: F1 63.1%, F2 64.9%, F3 64.7%\n",
      "Number of training images qualifying for pseudo-labeling: 6194\n",
      "Accuracy on test set: F1 63.1%, F2 64.4%, F3 65.9%\n",
      "Number of training images qualifying for pseudo-labeling: 6268\n",
      "Accuracy on test set: F1 64.3%, F2 65.5%, F3 62.9%\n",
      "Number of training images qualifying for pseudo-labeling: 6362\n",
      "Accuracy on test set: F1 65.6%, F2 64.8%, F3 65.0%\n",
      "Number of training images qualifying for pseudo-labeling: 6433\n",
      "Accuracy on test set: F1 65.1%, F2 63.7%, F3 64.4%\n",
      "Number of training images qualifying for pseudo-labeling: 6408\n",
      "Accuracy on test set: F1 63.1%, F2 64.3%, F3 65.0%\n",
      "Number of training images qualifying for pseudo-labeling: 6397\n",
      "Accuracy on test set: F1 64.0%, F2 65.5%, F3 63.6%\n",
      "Number of training images qualifying for pseudo-labeling: 6514\n",
      "Accuracy on test set: F1 66.2%, F2 65.1%, F3 65.8%\n",
      "Number of training images qualifying for pseudo-labeling: 6549\n",
      "Accuracy on test set: F1 66.9%, F2 65.8%, F3 67.3%\n",
      "Number of training images qualifying for pseudo-labeling: 6563\n",
      "Accuracy on test set: F1 67.9%, F2 67.1%, F3 67.1%\n",
      "Number of training images qualifying for pseudo-labeling: 6499\n",
      "Accuracy on test set: F1 68.0%, F2 68.9%, F3 68.2%\n",
      "Number of training images qualifying for pseudo-labeling: 6577\n",
      "Accuracy on test set: F1 68.9%, F2 69.7%, F3 69.2%\n",
      "Number of training images qualifying for pseudo-labeling: 6446\n",
      "Accuracy on test set: F1 67.4%, F2 68.4%, F3 68.8%\n",
      "Number of training images qualifying for pseudo-labeling: 6419\n",
      "Accuracy on test set: F1 69.5%, F2 67.8%, F3 69.3%\n",
      "Number of training images qualifying for pseudo-labeling: 6505\n",
      "Accuracy on test set: F1 70.0%, F2 69.3%, F3 69.2%\n",
      "Number of training images qualifying for pseudo-labeling: 6565\n",
      "Accuracy on test set: F1 69.2%, F2 69.7%, F3 71.0%\n",
      "Number of training images qualifying for pseudo-labeling: 6530\n",
      "Accuracy on test set: F1 70.1%, F2 70.1%, F3 70.6%\n",
      "Number of training images qualifying for pseudo-labeling: 6615\n",
      "Accuracy on test set: F1 69.9%, F2 70.3%, F3 71.0%\n",
      "Number of training images qualifying for pseudo-labeling: 6501\n",
      "Accuracy on test set: F1 70.1%, F2 70.6%, F3 70.7%\n",
      "Number of training images qualifying for pseudo-labeling: 6617\n",
      "Accuracy on test set: F1 70.4%, F2 69.6%, F3 70.6%\n",
      "Number of training images qualifying for pseudo-labeling: 6617\n",
      "Accuracy on test set: F1 71.0%, F2 69.8%, F3 70.7%\n",
      "Number of training images qualifying for pseudo-labeling: 6624\n",
      "Accuracy on test set: F1 70.9%, F2 69.2%, F3 71.2%\n",
      "Number of training images qualifying for pseudo-labeling: 6653\n",
      "Accuracy on test set: F1 71.6%, F2 72.1%, F3 70.8%\n",
      "Number of training images qualifying for pseudo-labeling: 6642\n",
      "Accuracy on test set: F1 70.8%, F2 70.0%, F3 71.8%\n",
      "Number of training images qualifying for pseudo-labeling: 6673\n",
      "Accuracy on test set: F1 70.3%, F2 69.8%, F3 70.7%\n",
      "Number of training images qualifying for pseudo-labeling: 6636\n",
      "Accuracy on test set: F1 70.7%, F2 70.6%, F3 70.5%\n",
      "Number of training images qualifying for pseudo-labeling: 6716\n",
      "Accuracy on test set: F1 72.4%, F2 72.3%, F3 71.2%\n",
      "Number of training images qualifying for pseudo-labeling: 6682\n",
      "Accuracy on test set: F1 72.1%, F2 72.1%, F3 72.3%\n",
      "Number of training images qualifying for pseudo-labeling: 6653\n",
      "Accuracy on test set: F1 73.5%, F2 73.9%, F3 72.4%\n",
      "Number of training images qualifying for pseudo-labeling: 6607\n",
      "Accuracy on test set: F1 73.2%, F2 73.4%, F3 72.9%\n",
      "Number of training images qualifying for pseudo-labeling: 6658\n",
      "Accuracy on test set: F1 73.5%, F2 73.5%, F3 74.2%\n",
      "Number of training images qualifying for pseudo-labeling: 6683\n",
      "Accuracy on test set: F1 73.2%, F2 72.4%, F3 73.7%\n",
      "Number of training images qualifying for pseudo-labeling: 6612\n",
      "Accuracy on test set: F1 73.2%, F2 73.1%, F3 73.0%\n",
      "Number of training images qualifying for pseudo-labeling: 6802\n",
      "Accuracy on test set: F1 72.8%, F2 72.7%, F3 73.2%\n",
      "Number of training images qualifying for pseudo-labeling: 6772\n",
      "Accuracy on test set: F1 72.7%, F2 73.2%, F3 72.8%\n",
      "Number of training images qualifying for pseudo-labeling: 6721\n",
      "Accuracy on test set: F1 73.6%, F2 74.1%, F3 73.2%\n",
      "Number of training images qualifying for pseudo-labeling: 6720\n",
      "Accuracy on test set: F1 73.6%, F2 74.3%, F3 73.0%\n",
      "Number of training images qualifying for pseudo-labeling: 6814\n",
      "Accuracy on test set: F1 73.8%, F2 72.4%, F3 73.9%\n",
      "Number of training images qualifying for pseudo-labeling: 6854\n",
      "Accuracy on test set: F1 73.1%, F2 73.1%, F3 73.2%\n",
      "Number of training images qualifying for pseudo-labeling: 6750\n",
      "Accuracy on test set: F1 72.8%, F2 73.3%, F3 73.3%\n",
      "Number of training images qualifying for pseudo-labeling: 6876\n",
      "Accuracy on test set: F1 72.2%, F2 72.8%, F3 72.8%\n",
      "Number of training images qualifying for pseudo-labeling: 6863\n",
      "Accuracy on test set: F1 73.3%, F2 72.7%, F3 72.7%\n",
      "Number of training images qualifying for pseudo-labeling: 6904\n",
      "Accuracy on test set: F1 74.2%, F2 72.8%, F3 73.0%\n",
      "Number of training images qualifying for pseudo-labeling: 6883\n",
      "Accuracy on test set: F1 72.3%, F2 73.5%, F3 73.4%\n",
      "Number of training images qualifying for pseudo-labeling: 6782\n",
      "Accuracy on test set: F1 73.2%, F2 73.3%, F3 73.0%\n",
      "Number of training images qualifying for pseudo-labeling: 6840\n",
      "Accuracy on test set: F1 73.6%, F2 72.9%, F3 73.1%\n"
     ]
    }
   ],
   "source": [
    "bootstrap_iterations = 50\n",
    "monte_carlo_iterations = 50\n",
    "exp2_acc = []\n",
    "exp2_adds = []\n",
    "\n",
    "print(\"-- Experiment 2 --\")\n",
    "\n",
    "for i in range(bootstrap_iterations):\n",
    "    print(str(i) + \": \", end=\"\")\n",
    "    data = dataset.generate_combined_dataset(mnist_data, usps_data)\n",
    "    # First get predictions for F1 and F2 by running data.target directly through the classifier w/ normal dropout.\n",
    "    target_preds = retrieve_f1f2_predictions(data.target) # [f1_preds, f2_preds]\n",
    "    \n",
    "    # Run Monte Carlo sampling iterations to calculate predictions and epistemic uncertainty for networks F1 and F2.\n",
    "    mc_preds_f1, unc_f1 = monte_carlo_preds(data.train, monte_carlo_iterations, y_pred=f1_y_pred)\n",
    "    mc_selected_f1 = np.where(unc_f1 < 1.7, 1, 0)\n",
    "    \n",
    "    mc_preds_f2, unc_f2 = monte_carlo_preds(data.train, monte_carlo_iterations, y_pred=f2_y_pred)\n",
    "    mc_selected_f2 = np.where(unc_f2 < 1.7, 1, 0)\n",
    "    \n",
    "    selected, count = select_criteria(mc_selected_f1, mc_selected_f2, target_preds)\n",
    "    if count >= data.target.num_images or count == 0:\n",
    "        print(\"Ending iterations early.\")\n",
    "        break\n",
    "        \n",
    "    exp2_adds.append(count)\n",
    "    # It doesn't matter which network's predictions we use since they must have agreed in order to label.\n",
    "    data.train.add_to_set(selected, data.target, target_preds[0]) \n",
    "    data.pseudo.add_to_set(selected, data.target, target_preds[0])\n",
    "    data.target.remove_from_set(selected)\n",
    "    \n",
    "    # Now we optimize F1 and F2 based on the updated training set.\n",
    "    # F3 is optimized solely based on category loss from the pseudo-labeled targets.\n",
    "    optimize(data.train, 750, silent=True, dropout_keep_prob=0.85, optimizers=[optimizer_all, optimizer_f1f2])\n",
    "    optimize(data.pseudo, 750, silent=True, dropout_keep_prob=0.5, optimizers=[optimizer_f3])\n",
    "\n",
    "    exp2_acc.append(print_test_accuracy(data.test, show_confusion_matrix=False, quieter=True, silent=False))"
   ]
  },
  {
   "cell_type": "code",
   "execution_count": 53,
   "metadata": {},
   "outputs": [
    {
     "name": "stdout",
     "output_type": "stream",
     "text": [
      "Best percent accuracy on target test data: 0.741796664874\n"
     ]
    }
   ],
   "source": [
    "exp2_acc = np.array(np.asarray(exp2_acc).T)\n",
    "print(\"Best percent accuracy on target test data: \" + str(np.max(exp2_acc[2]))) # F3 accuracy only"
   ]
  },
  {
   "cell_type": "code",
   "execution_count": 54,
   "metadata": {},
   "outputs": [
    {
     "data": {
      "image/png": "[encoded data removed]",
      "text/plain": [
       "<matplotlib.figure.Figure at 0x2b814ed13198>"
      ]
     },
     "metadata": {},
     "output_type": "display_data"
    },
    {
     "data": {
      "image/png": "[encoded data removed]",
      "text/plain": [
       "<matplotlib.figure.Figure at 0x2b8112e7deb8>"
      ]
     },
     "metadata": {},
     "output_type": "display_data"
    }
   ],
   "source": [
    "ysb.plot_with_legend(np.arange(len(exp2_acc[2])), [exp2_acc[2]], [\"F3 Accuracy\"], \"Iterations\", \"Target Accuracy\")\n",
    "ysb.plot_with_legend(np.arange(len(exp2_adds)), [exp2_adds], [\"No. images added\"], \"Iterations\", \"Images added\")"
   ]
  },
  {
   "cell_type": "markdown",
   "metadata": {},
   "source": [
    "### Experiment 3: resample the pseudo-label candidates at each round to prevent overfitting, but lower the dropout probability (keep more neurons during optimisation).\n",
    "\n",
    "Trying half as many Monte Carlo iterations to see if runtime can be improved without affecting performance."
   ]
  },
  {
   "cell_type": "code",
   "execution_count": null,
   "metadata": {
    "collapsed": true
   },
   "outputs": [],
   "source": [
    "saver.restore(sess=session, save_path='checkpoints/')"
   ]
  },
  {
   "cell_type": "code",
   "execution_count": null,
   "metadata": {
    "collapsed": true
   },
   "outputs": [],
   "source": [
    "bootstrap_iterations = 50\n",
    "monte_carlo_iterations = 25\n",
    "exp3_acc = []\n",
    "exp3_adds = []\n",
    "\n",
    "print(\"-- Experiment 3 --\")\n",
    "\n",
    "for i in range(bootstrap_iterations):\n",
    "    data = dataset.generate_combined_dataset(mnist_data, usps_data)\n",
    "    # First get predictions for F1 and F2 by running data.target directly through the classifier w/ normal dropout.\n",
    "    target_preds = retrieve_f1f2_predictions(data.target) # [f1_preds, f2_preds]\n",
    "    \n",
    "    # Run Monte Carlo sampling iterations to calculate predictions and epistemic uncertainty for networks F1 and F2.\n",
    "    mc_preds_f1, unc_f1 = monte_carlo_preds(data.train, monte_carlo_iterations, y_pred=f1_y_pred)\n",
    "    mc_selected_f1 = np.where(unc_f1 < 1.7, 1, 0)\n",
    "    \n",
    "    mc_preds_f2, unc_f2 = monte_carlo_preds(data.train, monte_carlo_iterations, y_pred=f2_y_pred)\n",
    "    mc_selected_f2 = np.where(unc_f2 < 1.7, 1, 0)\n",
    "    \n",
    "    selected, count = select_criteria(mc_selected_f1, mc_selected_f2, target_preds)\n",
    "    if count >= data.target.num_images or count == 0:\n",
    "        print(\"Ending iterations early.\")\n",
    "        break\n",
    "        \n",
    "    exp3_adds.append(count)\n",
    "    # It doesn't matter which network's predictions we use since they must have agreed in order to label.\n",
    "    data.train.add_to_set(selected, data.target, target_preds[0]) \n",
    "    data.pseudo.add_to_set(selected, data.target, target_preds[0])\n",
    "    data.target.remove_from_set(selected)\n",
    "    \n",
    "    # Now we optimize F1 and F2 based on the updated training set.\n",
    "    # F3 is optimized solely based on category loss from the pseudo-labeled targets.\n",
    "    optimize(data.train, 750, silent=True, dropout_keep_prob=0.85, optimizers=[optimizer_all, optimizer_f1f2])\n",
    "    optimize(data.pseudo, 750, silent=True, dropout_keep_prob=0.85, optimizers=[optimizer_f3])\n",
    "\n",
    "    exp3_acc.append(print_test_accuracy(data.test, show_confusion_matrix=False, quieter=True, silent=False))"
   ]
  },
  {
   "cell_type": "code",
   "execution_count": null,
   "metadata": {
    "collapsed": true
   },
   "outputs": [],
   "source": [
    "exp3_acc = np.array(np.asarray(exp3_acc).T)\n",
    "print(\"Best percent accuracy on target test data: \" + str(np.max(exp3_acc[2]))) # F3 accuracy only"
   ]
  },
  {
   "cell_type": "code",
   "execution_count": null,
   "metadata": {
    "collapsed": true
   },
   "outputs": [],
   "source": [
    "ysb.plot_with_legend(np.arange(len(exp3_acc[2])), [exp3_acc[2]], [\"F3 Accuracy\"], \"Iterations\", \"Target Accuracy\")\n",
    "ysb.plot_with_legend(np.arange(len(exp3_adds)), [exp3_adds], [\"No. images added\"], \"Iterations\", \"Images added\")"
   ]
  },
  {
   "cell_type": "markdown",
   "metadata": {},
   "source": [
    "### Experiment 4: best-performing results from above, but using softmax as confidence predictor instead of epistemic uncertainty."
   ]
  },
  {
   "cell_type": "code",
   "execution_count": null,
   "metadata": {
    "collapsed": true
   },
   "outputs": [],
   "source": [
    "saver.restore(sess=session, save_path='checkpoints/')"
   ]
  },
  {
   "cell_type": "code",
   "execution_count": null,
   "metadata": {
    "collapsed": true
   },
   "outputs": [],
   "source": [
    "bootstrap_iterations = 50\n",
    "monte_carlo_iterations = 25\n",
    "exp4_acc = []\n",
    "exp4_adds = []\n",
    "\n",
    "threshold = 0.95\n",
    "\n",
    "print(\"-- Experiment 4 --\")\n",
    "\n",
    "for i in range(bootstrap_iterations):\n",
    "    data = dataset.generate_combined_dataset(mnist_data, usps_data)\n",
    "    # First get predictions for F1 and F2 by running data.target directly through the classifier w/ normal dropout.\n",
    "    target_preds = retrieve_f1f2_predictions(data.target) # [f1_preds, f2_preds]\n",
    "    \n",
    "    # Calculate high-confidence softmax predictions\n",
    "    f1_selected = cn.split_by_threshold(threshold, target_preds[0], silent=True)\n",
    "    f2_selected = cn.split_by_threshold(threshold, target_preds[1], silent=True)\n",
    "    \n",
    "    selected, count = select_criteria(f1_selected, f2_selected, target_preds)\n",
    "    \n",
    "    if count >= data.target.num_images or count == 0:\n",
    "        print(\"Ending iterations early.\")\n",
    "        break\n",
    "        \n",
    "    exp4_adds.append(count)\n",
    "    # It doesn't matter which network's predictions we use since they must have agreed in order to label.\n",
    "    data.train.add_to_set(selected, data.target, target_preds[0]) \n",
    "    data.pseudo.add_to_set(selected, data.target, target_preds[0])\n",
    "    data.target.remove_from_set(selected)\n",
    "    \n",
    "    # Now we optimize F1 and F2 based on the updated training set.\n",
    "    # F3 is optimized solely based on category loss from the pseudo-labeled targets.\n",
    "    optimize(data.train, 750, silent=True, dropout_keep_prob=0.85, optimizers=[optimizer_all, optimizer_f1f2])\n",
    "    optimize(data.pseudo, 750, silent=True, dropout_keep_prob=0.85, optimizers=[optimizer_f3])\n",
    "\n",
    "    exp4_acc.append(print_test_accuracy(data.test, show_confusion_matrix=False, quieter=True, silent=False))"
   ]
  },
  {
   "cell_type": "code",
   "execution_count": null,
   "metadata": {
    "collapsed": true
   },
   "outputs": [],
   "source": [
    "exp4_acc = np.array(np.asarray(exp4_acc).T)\n",
    "print(\"Best percent accuracy on target test data: \" + str(np.max(exp4_acc[2]))) # F3 accuracy only"
   ]
  },
  {
   "cell_type": "code",
   "execution_count": null,
   "metadata": {
    "collapsed": true
   },
   "outputs": [],
   "source": [
    "ysb.plot_with_legend(np.arange(len(exp4_acc[2])), [exp4_acc[2]], [\"F3 Accuracy\"], \"Iterations\", \"Target Accuracy\")\n",
    "ysb.plot_with_legend(np.arange(len(exp4_adds)), [exp4_adds], [\"No. images added\"], \"Iterations\", \"Images added\")"
   ]
  },
  {
   "cell_type": "markdown",
   "metadata": {},
   "source": [
    "## Comparison from all experiments."
   ]
  },
  {
   "cell_type": "code",
   "execution_count": null,
   "metadata": {
    "collapsed": true
   },
   "outputs": [],
   "source": [
    "x_range = min(len(exp1_acc), len(exp2_acc), len(exp3_acc), len(exp4_acc))"
   ]
  },
  {
   "cell_type": "code",
   "execution_count": null,
   "metadata": {
    "collapsed": true
   },
   "outputs": [],
   "source": [
    "ysb.plot_with_legend(np.arange(x_range), [exp1_acc[:x_range], exp2_acc[:x_range], exp3_acc[:x_range], exp4_acc[:x_range]], [\"Exp 1\", \"Exp 2\", \"Exp 3\", \"Exp 4\"], \"Iterations\", \"Accuracy\")"
   ]
  },
  {
   "cell_type": "code",
   "execution_count": null,
   "metadata": {
    "collapsed": true
   },
   "outputs": [],
   "source": [
    "ysb.plot_with_legend(np.arange(x_range), [exp1_adds[:x_range], exp2_adds[:x_range], exp3_acc[:x_range], exp4_acc[:x_range]], [\"Exp 1\", \"Exp 2\", \"Exp 3\", \"Exp 4\"], \"Iterations\", \"No. images added per iteration\")"
   ]
  },
  {
   "cell_type": "markdown",
   "metadata": {
    "collapsed": true
   },
   "source": [
    "## Close TensorFlow session\n",
    "\n",
    "Releases all resources! Run only when prepared to lose saved CNN model."
   ]
  },
  {
   "cell_type": "code",
   "execution_count": 214,
   "metadata": {
    "collapsed": true
   },
   "outputs": [],
   "source": [
    "session.close()"
   ]
  },
  {
   "cell_type": "code",
   "execution_count": null,
   "metadata": {
    "collapsed": true
   },
   "outputs": [],
   "source": []
  },
  {
   "cell_type": "code",
   "execution_count": null,
   "metadata": {
    "collapsed": true
   },
   "outputs": [],
   "source": []
  }
 ],
 "metadata": {
  "kernelspec": {
   "display_name": "Python 3",
   "language": "python",
   "name": "python3"
  },
  "language_info": {
   "codemirror_mode": {
    "name": "ipython",
    "version": 3
   },
   "file_extension": ".py",
   "mimetype": "text/x-python",
   "name": "python",
   "nbconvert_exporter": "python",
   "pygments_lexer": "ipython3",
   "version": "3.6.1"
  }
 },
 "nbformat": 4,
 "nbformat_minor": 2
}
