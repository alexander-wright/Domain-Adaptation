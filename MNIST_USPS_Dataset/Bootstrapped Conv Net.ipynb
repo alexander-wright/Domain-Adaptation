{
 "cells": [
  {
   "cell_type": "markdown",
   "metadata": {},
   "source": [
    "# Bootstrapped Conv NN\n",
    "\n",
    "A bootstrapped approach to domain adaptation for MNIST to USPS.\n",
    "\n",
    "Author: @ysbecca\n",
    "\n",
    "Credits go to:\n",
    "\n",
    "- [Hvass-Labs](http://www.hvass-labs.org/) for the base CNN model for MNIST classification. Their CNN was deepened and adjusted to iteratively learn the USPS dataset.\n",
    "- [Leo Pauly](https://github.com/leopauly) for the research in general and the initial code which loads the datasets."
   ]
  },
  {
   "cell_type": "code",
   "execution_count": 1,
   "metadata": {
    "collapsed": true
   },
   "outputs": [],
   "source": [
    "import tensorflow as tf\n",
    "import numpy as np\n",
    "from sklearn.metrics import confusion_matrix\n",
    "import matplotlib.pyplot as plt\n",
    "from datetime import timedelta\n",
    "from importlib import reload\n",
    "import math\n",
    "import time\n",
    "\n",
    "# Custom scripts.\n",
    "import ysb\n",
    "import dataset\n",
    "import mnist_usps as mnus\n",
    "import cnn_helper as cn"
   ]
  },
  {
   "cell_type": "code",
   "execution_count": 38,
   "metadata": {},
   "outputs": [
    {
     "data": {
      "text/plain": [
       "<module 'cnn_helper' from '/Users/ysbecca/ysbecca-projects/Domain-Adaptation/MNIST_USPS_Dataset/cnn_helper.py'>"
      ]
     },
     "execution_count": 38,
     "metadata": {},
     "output_type": "execute_result"
    }
   ],
   "source": [
    "reload(mnus)\n",
    "reload(dataset)\n",
    "reload(cn)"
   ]
  },
  {
   "cell_type": "markdown",
   "metadata": {},
   "source": [
    "Set parameters."
   ]
  },
  {
   "cell_type": "code",
   "execution_count": 3,
   "metadata": {
    "collapsed": true
   },
   "outputs": [],
   "source": [
    "# CNN PARAMETERS\n",
    "filter_size1 = 5          # Convolution filters are 5 x 5 pixels.\n",
    "num_filters1 = 16         # There are 16 of these filters.\n",
    "\n",
    "filter_size2 = 5         \n",
    "num_filters2 = 16    \n",
    "\n",
    "filter_size3 = 5         \n",
    "num_filters3 = 32    \n",
    "\n",
    "fc_size = 128             # Number of neurons in fully-connected layer.\n",
    "\n",
    "# IMAGE PARAMETERS\n",
    "img_size = 16             # Width and height in pixels.\n",
    "\n",
    "# Images are stored in one-dimensional arrays of this length.\n",
    "img_size_flat = img_size * img_size\n",
    "\n",
    "# Tuple with height and width of images used to reshape arrays.\n",
    "img_shape = (img_size, img_size)\n",
    "\n",
    "# Number of colour channels for the images: 1 channel for gray-scale.\n",
    "num_channels = 1\n",
    "\n",
    "# Number of classes, one class for each of 10 digits.\n",
    "num_classes = 10"
   ]
  },
  {
   "cell_type": "markdown",
   "metadata": {},
   "source": [
    "## Load both datasets."
   ]
  },
  {
   "cell_type": "code",
   "execution_count": 4,
   "metadata": {},
   "outputs": [
    {
     "name": "stdout",
     "output_type": "stream",
     "text": [
      "Time elapsed: 0:00:05\n"
     ]
    }
   ],
   "source": [
    "mnist_data, usps_data = dataset.read_datasets()"
   ]
  },
  {
   "cell_type": "code",
   "execution_count": 5,
   "metadata": {},
   "outputs": [
    {
     "name": "stdout",
     "output_type": "stream",
     "text": [
      "MNIST dataset:\n",
      "- Training-set:\t\t49000\n",
      "- Test-set:\t\t14000\n",
      "- Validation-set:\t7000\n",
      "USPS dataset:\n",
      "- Training-set:\t\t7439\n",
      "- Test-set:\t\t1859\n"
     ]
    }
   ],
   "source": [
    "print(\"MNIST dataset:\")\n",
    "print(\"- Training-set:\\t\\t{}\".format(mnist_data.train.num_images))\n",
    "print(\"- Test-set:\\t\\t{}\".format(mnist_data.test.num_images))\n",
    "print(\"- Validation-set:\\t{}\".format(mnist_data.valid.num_images))\n",
    "\n",
    "print(\"USPS dataset:\")\n",
    "print(\"- Training-set:\\t\\t{}\".format(usps_data.train.num_images))\n",
    "print(\"- Test-set:\\t\\t{}\".format(usps_data.test.num_images))"
   ]
  },
  {
   "cell_type": "code",
   "execution_count": 6,
   "metadata": {},
   "outputs": [
    {
     "data": {
      "image/png": "[encoded data removed]",
      "text/plain": [
       "<matplotlib.figure.Figure at 0x12d06c748>"
      ]
     },
     "metadata": {},
     "output_type": "display_data"
    },
    {
     "data": {
      "image/png": "[encoded data removed]",
      "text/plain": [
       "<matplotlib.figure.Figure at 0x12d7b3cc0>"
      ]
     },
     "metadata": {},
     "output_type": "display_data"
    }
   ],
   "source": [
    "i = 0\n",
    "ysb.show_labeled_patches_gray(mnist_data.train.images[i:(i+10)], mnist_data.train.cls[i:(i+10)])\n",
    "ysb.show_labeled_patches_gray(usps_data.train.images[i:(i+10)], usps_data.train.cls[i:(i+10)])"
   ]
  },
  {
   "cell_type": "markdown",
   "metadata": {},
   "source": [
    "## Train the CNN on MNIST.\n",
    "\n",
    "First, set up the placeholders."
   ]
  },
  {
   "cell_type": "code",
   "execution_count": 7,
   "metadata": {
    "collapsed": true
   },
   "outputs": [],
   "source": [
    "x = tf.placeholder(tf.float32, shape=[None, img_size_flat], name='x')\n",
    "x_image = tf.reshape(x, [-1, img_size, img_size, num_channels])\n",
    "y_true = tf.placeholder(tf.float32, shape=[None, num_classes], name='y_true')\n",
    "y_true_cls = tf.argmax(y_true, dimension=1) # A placeholder only, so calculated instead of passed directly."
   ]
  },
  {
   "cell_type": "markdown",
   "metadata": {},
   "source": [
    "Build TensorFlow graph for a simple 3-layer CNN with max-pooling, ReLU and two fully-connected layers."
   ]
  },
  {
   "cell_type": "code",
   "execution_count": 8,
   "metadata": {
    "collapsed": true
   },
   "outputs": [],
   "source": [
    "layer_conv1, weights_conv1 = \\\n",
    "    cn.new_conv_layer(input=x_image,\n",
    "                   num_input_channels=num_channels,\n",
    "                   filter_size=filter_size1,\n",
    "                   num_filters=num_filters1,\n",
    "                   use_pooling=True,\n",
    "                   w_name=\"conv1_w\")\n",
    "layer_conv2, weights_conv2 = \\\n",
    "    cn.new_conv_layer(input=layer_conv1,\n",
    "                   num_input_channels=num_filters1,\n",
    "                   filter_size=filter_size2,\n",
    "                   num_filters=num_filters2,\n",
    "                   use_pooling=True,\n",
    "                   w_name=\"conv2_w\")\n",
    "layer_conv3, weights_conv3 = \\\n",
    "    cn.new_conv_layer(input=layer_conv2,\n",
    "                   num_input_channels=num_filters2,\n",
    "                   filter_size=filter_size3,\n",
    "                   num_filters=num_filters3,\n",
    "                   use_pooling=True,\n",
    "                   w_name=\"conv3_w\")\n",
    "layer_flat, num_features = cn.flatten_layer(layer_conv3)\n",
    "layer_fc1 = cn.new_fc_layer(input=layer_flat,                # num_features = 128, from the flattened 3rd layer.\n",
    "                         num_inputs=num_features,\n",
    "                         num_outputs=fc_size,\n",
    "                         use_relu=True,\n",
    "                         w_name=\"fc1_w\")\n",
    "layer_fc2 = cn.new_fc_layer(input=layer_fc1,                 # This is the classification layer.\n",
    "                         num_inputs=fc_size,\n",
    "                         num_outputs=num_classes,            # num_classes = 10\n",
    "                         use_relu=False,\n",
    "                         w_name=\"fc2_w\")\n",
    "y_pred = tf.nn.softmax(layer_fc2)                            # This is the softmax output prediction.\n",
    "y_pred_cls = tf.argmax(y_pred, dimension=1)                  # The hard classification, with a threshold of 0.5."
   ]
  },
  {
   "cell_type": "code",
   "execution_count": 9,
   "metadata": {
    "collapsed": true
   },
   "outputs": [],
   "source": [
    "# Cost to be reduced is the the cross entropy over all the images.\n",
    "cross_entropy = tf.nn.softmax_cross_entropy_with_logits(logits=layer_fc2, labels=y_true)\n",
    "cost = tf.reduce_mean(cross_entropy)\n",
    "optimizer = tf.train.AdamOptimizer(learning_rate=1e-4).minimize(cost)\n",
    "\n",
    "correct_prediction = tf.equal(y_pred_cls, y_true_cls)\n",
    "accuracy = tf.reduce_mean(tf.cast(correct_prediction, tf.float32))"
   ]
  },
  {
   "cell_type": "markdown",
   "metadata": {},
   "source": [
    "Now we create a new TensorFlow session and initialise the variables."
   ]
  },
  {
   "cell_type": "code",
   "execution_count": 10,
   "metadata": {
    "collapsed": true
   },
   "outputs": [],
   "source": [
    "session = tf.Session()\n",
    "session.run(tf.global_variables_initializer())\n",
    "train_batch_size = 128\n",
    "test_batch_size = 128"
   ]
  },
  {
   "cell_type": "markdown",
   "metadata": {},
   "source": [
    "Helper functions for running optimisation iterations and showing test accuracy."
   ]
  },
  {
   "cell_type": "code",
   "execution_count": 31,
   "metadata": {
    "collapsed": true
   },
   "outputs": [],
   "source": [
    "# Counter for total number of iterations performed so far.\n",
    "total_iterations = 0\n",
    "\n",
    "def optimize(dataset_train, num_iterations):\n",
    "    global total_iterations\n",
    "    start_time = time.time()\n",
    "    for i in range(total_iterations,\n",
    "                   total_iterations + num_iterations):\n",
    "        x_batch, y_true_batch = dataset_train.next_batch(train_batch_size)\n",
    "        x_batch = x_batch.reshape(len(x_batch), img_size_flat)\n",
    "        feed_dict_train = {x: x_batch, y_true: y_true_batch}\n",
    "\n",
    "        session.run(optimizer, feed_dict=feed_dict_train)\n",
    "\n",
    "        # Print status every 250 iterations.\n",
    "        if i % 250 == 0:\n",
    "            # Calculate the accuracy on the training-set.\n",
    "            acc = session.run(accuracy, feed_dict=feed_dict_train)\n",
    "\n",
    "            # Message for printing.\n",
    "            msg = \"Optimization Iteration: {0:>6}, Training Accuracy: {1:>6.1%}\"\n",
    "            print(msg.format(i + 1, acc))\n",
    "\n",
    "    total_iterations += num_iterations\n",
    "\n",
    "    end_time = time.time()\n",
    "    time_dif = end_time - start_time\n",
    "    print(\"Time usage: \" + str(timedelta(seconds=int(round(time_dif)))))\n",
    "    \n",
    "def print_test_accuracy(dataset_test, show_confusion_matrix=True):\n",
    "    num_test = len(dataset_test.images)\n",
    "    cls_pred = np.zeros(shape=num_test, dtype=np.int)\n",
    "    i = 0\n",
    "\n",
    "    while i < num_test:\n",
    "        j = min(i + test_batch_size, num_test)\n",
    "        curr_batch_size = j - i\n",
    "        \n",
    "        # Get the images and targets from the test-set between index i and j.\n",
    "        images = dataset_test.images[i:j, :].reshape(curr_batch_size, img_size_flat)\n",
    "        labels = dataset_test.labels[i:j, :]\n",
    "        feed_dict = {x: images, y_true: labels}\n",
    "\n",
    "        cls_pred[i:j] = session.run(y_pred_cls, feed_dict=feed_dict)\n",
    "        i = j\n",
    "\n",
    "    cls_true = dataset_test.cls\n",
    "\n",
    "    # Create a boolean array whether each image is correctly classified.\n",
    "    correct = (cls_true == cls_pred)\n",
    "    correct_sum = correct.sum()\n",
    "    acc = float(correct_sum) / num_test\n",
    "\n",
    "    msg = \"Accuracy on test set: {0:.1%} ({1} / {2})\"\n",
    "    print(msg.format(acc, correct_sum, num_test))\n",
    "    \n",
    "    if show_confusion_matrix:\n",
    "        print(\"Confusion matrix:\")\n",
    "        cn.plot_confusion_matrix(cls_true, cls_pred=cls_pred)"
   ]
  },
  {
   "cell_type": "markdown",
   "metadata": {},
   "source": [
    "Train CNN."
   ]
  },
  {
   "cell_type": "code",
   "execution_count": 12,
   "metadata": {},
   "outputs": [
    {
     "name": "stdout",
     "output_type": "stream",
     "text": [
      "Accuracy on test set: 9.9% (1392 / 14000)\n"
     ]
    }
   ],
   "source": [
    "print_test_accuracy(mnist_data.test, show_confusion_matrix=False)"
   ]
  },
  {
   "cell_type": "code",
   "execution_count": 13,
   "metadata": {},
   "outputs": [
    {
     "name": "stdout",
     "output_type": "stream",
     "text": [
      "Optimization Iteration:      1, Training Accuracy:   6.2%\n",
      "Optimization Iteration:    251, Training Accuracy:  61.7%\n",
      "Optimization Iteration:    501, Training Accuracy:  76.6%\n",
      "Optimization Iteration:    751, Training Accuracy:  90.6%\n",
      "Optimization Iteration:   1001, Training Accuracy:  88.3%\n",
      "Optimization Iteration:   1251, Training Accuracy:  90.6%\n",
      "Optimization Iteration:   1501, Training Accuracy:  93.0%\n",
      "Optimization Iteration:   1751, Training Accuracy:  94.5%\n",
      "Time usage: 0:01:35\n"
     ]
    }
   ],
   "source": [
    "optimize(mnist_data.train, num_iterations=2000)"
   ]
  },
  {
   "cell_type": "code",
   "execution_count": 14,
   "metadata": {},
   "outputs": [
    {
     "name": "stdout",
     "output_type": "stream",
     "text": [
      "Accuracy on test set: 92.7% (12971 / 14000)\n"
     ]
    }
   ],
   "source": [
    "print_test_accuracy(mnist_data.test, show_confusion_matrix=False)"
   ]
  },
  {
   "cell_type": "code",
   "execution_count": 15,
   "metadata": {},
   "outputs": [
    {
     "name": "stdout",
     "output_type": "stream",
     "text": [
      "Optimization Iteration:   2001, Training Accuracy:  90.6%\n",
      "Optimization Iteration:   2251, Training Accuracy:  96.1%\n",
      "Optimization Iteration:   2501, Training Accuracy:  95.3%\n",
      "Optimization Iteration:   2751, Training Accuracy:  96.1%\n",
      "Optimization Iteration:   3001, Training Accuracy:  96.9%\n",
      "Optimization Iteration:   3251, Training Accuracy:  90.6%\n",
      "Optimization Iteration:   3501, Training Accuracy:  95.3%\n",
      "Optimization Iteration:   3751, Training Accuracy:  94.5%\n",
      "Optimization Iteration:   4001, Training Accuracy:  97.7%\n",
      "Optimization Iteration:   4251, Training Accuracy:  95.3%\n",
      "Optimization Iteration:   4501, Training Accuracy:  94.5%\n",
      "Optimization Iteration:   4751, Training Accuracy:  96.9%\n",
      "Optimization Iteration:   5001, Training Accuracy:  97.7%\n",
      "Optimization Iteration:   5251, Training Accuracy:  96.9%\n",
      "Optimization Iteration:   5501, Training Accuracy:  99.2%\n",
      "Optimization Iteration:   5751, Training Accuracy:  97.7%\n",
      "Optimization Iteration:   6001, Training Accuracy:  98.4%\n",
      "Optimization Iteration:   6251, Training Accuracy:  96.9%\n",
      "Optimization Iteration:   6501, Training Accuracy:  96.9%\n",
      "Optimization Iteration:   6751, Training Accuracy:  96.1%\n",
      "Optimization Iteration:   7001, Training Accuracy:  98.4%\n",
      "Optimization Iteration:   7251, Training Accuracy:  98.4%\n",
      "Optimization Iteration:   7501, Training Accuracy:  98.4%\n",
      "Optimization Iteration:   7751, Training Accuracy:  96.9%\n",
      "Time usage: 0:04:45\n"
     ]
    }
   ],
   "source": [
    "optimize(mnist_data.train, num_iterations=6000)"
   ]
  },
  {
   "cell_type": "code",
   "execution_count": 16,
   "metadata": {},
   "outputs": [
    {
     "name": "stdout",
     "output_type": "stream",
     "text": [
      "Accuracy on test set: 97.0% (13582 / 14000)\n"
     ]
    }
   ],
   "source": [
    "print_test_accuracy(mnist_data.test, show_confusion_matrix=False)"
   ]
  },
  {
   "cell_type": "markdown",
   "metadata": {},
   "source": [
    "Now test on USPS test set, then run the CNN on the entire training set (we treat the training set as if it is completely unlabeled) and save softmax outputs."
   ]
  },
  {
   "cell_type": "code",
   "execution_count": 17,
   "metadata": {},
   "outputs": [
    {
     "name": "stdout",
     "output_type": "stream",
     "text": [
      "Accuracy on test set: 72.9% (1356 / 1859)\n",
      "Confusion matrix:\n",
      "[[265   0  29  11   0   4   0   0   6   0]\n",
      " [  0 139   0   0   0   0   1   0 126   0]\n",
      " [  0   4 150  12   1   2   0   0   2   0]\n",
      " [  0   0   2 176   0   1   0   0   2   0]\n",
      " [  1   0   3   0 122   1   5   2   4  18]\n",
      " [  0   0   1  30   0 117   2   0   3   0]\n",
      " [  0   0   0   0   0   5 160   0   4   0]\n",
      " [  0  15 119   0   0   0   0  22   6   7]\n",
      " [  0   0   1   2   0   5   1   0 131   0]\n",
      " [  0   0   6   2  14   2   0  11  30  74]]\n"
     ]
    },
    {
     "data": {
      "image/png": "[encoded data removed]",
      "text/plain": [
       "<matplotlib.figure.Figure at 0x135402c50>"
      ]
     },
     "metadata": {},
     "output_type": "display_data"
    }
   ],
   "source": [
    "print_test_accuracy(usps_data.test, show_confusion_matrix=True)"
   ]
  },
  {
   "cell_type": "code",
   "execution_count": 42,
   "metadata": {
    "collapsed": true
   },
   "outputs": [],
   "source": [
    "def retrieve_predictions(dataset):\n",
    "    ''' Retrieves the probabilities (not predicted classes) on the given DataSet object. '''\n",
    "    num_test = len(dataset.images)\n",
    "    print(\"Number of images in set: \" + str(num_test))\n",
    "\n",
    "    # Allocate an array for the class probabilities which will be calculated in batches and added\n",
    "    # onto this array; this first element is a dummy to maintain shape as we will add in batches.\n",
    "    cls_prob = np.zeros(shape=(1, num_classes), dtype=np.int)\n",
    "    i = 0\n",
    "\n",
    "    while i < num_test:\n",
    "        j = min(i + test_batch_size, num_test)\n",
    "        curr_batch_size = j - i\n",
    "        images = dataset.images[i:j, :].reshape(curr_batch_size, img_size_flat)\n",
    "        labels = dataset.labels[i:j, :]\n",
    "        feed_dict = {x: images, y_true: labels}\n",
    "\n",
    "        # Save the softmax output.\n",
    "        cls_prob = np.concatenate((cls_prob, session.run(y_pred, feed_dict=feed_dict)), axis=0)\n",
    "        i = j\n",
    "    \n",
    "    cls_prob = np.delete(cls_prob, 0, 0) # Remove the first dummy element now.\n",
    "    return cls_prob"
   ]
  },
  {
   "cell_type": "code",
   "execution_count": 23,
   "metadata": {},
   "outputs": [
    {
     "name": "stdout",
     "output_type": "stream",
     "text": [
      "Number of images in set: 7439\n"
     ]
    }
   ],
   "source": [
    "usps_train_preds = retrieve_predictions(usps_data.train)"
   ]
  },
  {
   "cell_type": "code",
   "execution_count": 24,
   "metadata": {},
   "outputs": [
    {
     "name": "stdout",
     "output_type": "stream",
     "text": [
      "Found 3027 images labeled with confidence >= 0.99\n"
     ]
    }
   ],
   "source": [
    "selected = cn.split_by_threshold(0.99, usps_train_preds)"
   ]
  },
  {
   "cell_type": "code",
   "execution_count": 40,
   "metadata": {},
   "outputs": [
    {
     "name": "stdout",
     "output_type": "stream",
     "text": [
      "Images added to set: 3027\n",
      "Removed 3027 images from dataset.\n",
      "Updated dataset size: 4412\n"
     ]
    }
   ],
   "source": [
    "data = dataset.generate_combined_dataset(mnist_data, usps_data)\n",
    "data.train.add_to_set(selected, usps_data.train, usps_train_preds)\n",
    "data.usps_train.remove_from_set(selected)"
   ]
  },
  {
   "cell_type": "code",
   "execution_count": 27,
   "metadata": {
    "scrolled": false
   },
   "outputs": [
    {
     "name": "stdout",
     "output_type": "stream",
     "text": [
      "Optimization Iteration:   8001, Training Accuracy:  97.7%\n",
      "Optimization Iteration:   8251, Training Accuracy:  96.9%\n",
      "Optimization Iteration:   8501, Training Accuracy:  98.4%\n",
      "Optimization Iteration:   8751, Training Accuracy:  94.5%\n",
      "Optimization Iteration:   9001, Training Accuracy:  98.4%\n",
      "Optimization Iteration:   9251, Training Accuracy:  98.4%\n",
      "Optimization Iteration:   9501, Training Accuracy:  95.3%\n",
      "Optimization Iteration:   9751, Training Accuracy:  96.9%\n",
      "Time usage: 0:01:38\n",
      "Accuracy on test set: 72.1% (1341 / 1859)\n",
      "Confusion matrix:\n",
      "[[276   0   7  21   0   9   0   0   2   0]\n",
      " [  0 130   0   0   0   0   0   0 136   0]\n",
      " [  0   4 143  21   0   2   0   0   1   0]\n",
      " [  0   0   2 177   0   0   0   0   2   0]\n",
      " [  2   0   4   0 118   1   6   3   6  16]\n",
      " [  0   0   0  33   0 117   1   0   2   0]\n",
      " [  0   0   0   0   0  10 155   0   4   0]\n",
      " [  1  12 108   4   0   0   0  35   3   6]\n",
      " [  0   0   1   5   0   5   1   0 128   0]\n",
      " [  1   0   5  10  10   2   0  13  36  62]]\n"
     ]
    },
    {
     "data": {
      "image/png": "[encoded data removed]",
      "text/plain": [
       "<matplotlib.figure.Figure at 0x12d761400>"
      ]
     },
     "metadata": {},
     "output_type": "display_data"
    }
   ],
   "source": [
    "optimize(data.train, num_iterations=1000) # 3000 is too many; do not want to overfit to MNIST as it is already trained\n",
    "print_test_accuracy(data.test, show_confusion_matrix=True)"
   ]
  },
  {
   "cell_type": "markdown",
   "metadata": {
    "collapsed": true
   },
   "source": [
    "Now re-run the remaining USPS train set through the CNN and bootstrap the top 0.99 again."
   ]
  },
  {
   "cell_type": "code",
   "execution_count": 44,
   "metadata": {},
   "outputs": [
    {
     "name": "stdout",
     "output_type": "stream",
     "text": [
      "Number of images in set: 4412\n",
      "Found 390 images labeled with confidence >= 0.99\n",
      "Images added to set: 390\n",
      "Removed 390 images from dataset.\n",
      "Updated dataset size: 4022\n"
     ]
    }
   ],
   "source": [
    "train_preds = retrieve_predictions(data.usps_train)\n",
    "selected = cn.split_by_threshold(0.99, train_preds)\n",
    "# Now add the high-confidence images with CNN-predicted labels to training set and remove from usps_train.\n",
    "data.train.add_to_set(selected, data.usps_train, train_preds)\n",
    "data.usps_train.remove_from_set(selected)"
   ]
  },
  {
   "cell_type": "code",
   "execution_count": 45,
   "metadata": {},
   "outputs": [
    {
     "name": "stdout",
     "output_type": "stream",
     "text": [
      "Optimization Iteration:      1, Training Accuracy:  97.7%\n",
      "Optimization Iteration:    251, Training Accuracy:  99.2%\n",
      "Time usage: 0:00:22\n",
      "Accuracy on test set: 72.4% (1346 / 1859)\n",
      "Confusion matrix:\n",
      "[[260   0  25  17   0   4   2   0   6   1]\n",
      " [  0 150   0   0   0   0   1   0 115   0]\n",
      " [  0   7 148  14   0   1   0   0   1   0]\n",
      " [  0   0   2 177   0   0   0   0   2   0]\n",
      " [  1   0   3   0 129   1   4   3   6   9]\n",
      " [  0   0   1  36   0 112   1   0   3   0]\n",
      " [  0   0   0   0   1   7 158   0   3   0]\n",
      " [  0  18 108   1   0   0   0  35   3   4]\n",
      " [  0   0   3   4   0   5   1   0 127   0]\n",
      " [  0   0   6   7  18   1   0  17  40  50]]\n"
     ]
    },
    {
     "data": {
      "image/png": "[encoded data removed]",
      "text/plain": [
       "<matplotlib.figure.Figure at 0x12d56c908>"
      ]
     },
     "metadata": {},
     "output_type": "display_data"
    }
   ],
   "source": [
    "optimize(data.train, num_iterations=500)\n",
    "print_test_accuracy(data.test, show_confusion_matrix=True)"
   ]
  },
  {
   "cell_type": "code",
   "execution_count": 46,
   "metadata": {},
   "outputs": [
    {
     "name": "stdout",
     "output_type": "stream",
     "text": [
      "Number of images in set: 4022\n",
      "Found 130 images labeled with confidence >= 0.99\n",
      "Images added to set: 130\n",
      "Removed 130 images from dataset.\n",
      "Updated dataset size: 3892\n",
      "Optimization Iteration:    501, Training Accuracy:  97.7%\n",
      "Optimization Iteration:    751, Training Accuracy: 100.0%\n",
      "Time usage: 0:00:24\n",
      "Accuracy on test set: 71.3% (1325 / 1859)\n"
     ]
    }
   ],
   "source": [
    "train_preds = retrieve_predictions(data.usps_train)\n",
    "selected = cn.split_by_threshold(0.99, train_preds)\n",
    "\n",
    "data.train.add_to_set(selected, data.usps_train, train_preds)\n",
    "data.usps_train.remove_from_set(selected)\n",
    "\n",
    "optimize(data.train, num_iterations=500)\n",
    "print_test_accuracy(data.test, show_confusion_matrix=False)"
   ]
  },
  {
   "cell_type": "code",
   "execution_count": 47,
   "metadata": {},
   "outputs": [
    {
     "name": "stdout",
     "output_type": "stream",
     "text": [
      "Number of images in set: 3892\n",
      "Found 665 images labeled with confidence >= 0.95\n",
      "Images added to set: 665\n",
      "Removed 665 images from dataset.\n",
      "Updated dataset size: 3227\n",
      "Optimization Iteration:   1001, Training Accuracy:  99.2%\n",
      "Optimization Iteration:   1251, Training Accuracy:  97.7%\n",
      "Time usage: 0:00:22\n",
      "Accuracy on test set: 76.2% (1417 / 1859)\n"
     ]
    }
   ],
   "source": [
    "train_preds = retrieve_predictions(data.usps_train)\n",
    "selected = cn.split_by_threshold(0.95, train_preds)\n",
    "\n",
    "data.train.add_to_set(selected, data.usps_train, train_preds)\n",
    "data.usps_train.remove_from_set(selected)\n",
    "\n",
    "optimize(data.train, num_iterations=500)\n",
    "print_test_accuracy(data.test, show_confusion_matrix=False)"
   ]
  },
  {
   "cell_type": "code",
   "execution_count": null,
   "metadata": {},
   "outputs": [],
   "source": []
  },
  {
   "cell_type": "markdown",
   "metadata": {
    "collapsed": true
   },
   "source": [
    "## Close TensorFlow session\n",
    "\n",
    "Releases all resources! Run only when prepared to lose saved CNN model."
   ]
  },
  {
   "cell_type": "code",
   "execution_count": 33,
   "metadata": {
    "collapsed": true
   },
   "outputs": [],
   "source": [
    "session.close()"
   ]
  },
  {
   "cell_type": "code",
   "execution_count": null,
   "metadata": {
    "collapsed": true
   },
   "outputs": [],
   "source": []
  },
  {
   "cell_type": "code",
   "execution_count": null,
   "metadata": {
    "collapsed": true
   },
   "outputs": [],
   "source": []
  }
 ],
 "metadata": {
  "kernelspec": {
   "display_name": "Python 3",
   "language": "python",
   "name": "python3"
  },
  "language_info": {
   "codemirror_mode": {
    "name": "ipython",
    "version": 3
   },
   "file_extension": ".py",
   "mimetype": "text/x-python",
   "name": "python",
   "nbconvert_exporter": "python",
   "pygments_lexer": "ipython3",
   "version": "3.6.1"
  }
 },
 "nbformat": 4,
 "nbformat_minor": 2
}
