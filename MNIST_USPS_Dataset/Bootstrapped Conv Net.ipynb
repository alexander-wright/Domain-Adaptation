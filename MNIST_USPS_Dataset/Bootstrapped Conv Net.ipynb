{
 "cells": [
  {
   "cell_type": "markdown",
   "metadata": {},
   "source": [
    "# Bootstrapped Conv NN\n",
    "\n",
    "A bootstrapped approach to domain adaptation for MNIST to USPS.\n",
    "\n",
    "Author: @ysbecca\n",
    "\n",
    "Credits go to:\n",
    "\n",
    "- [Hvass-Labs](http://www.hvass-labs.org/) for the base CNN model for MNIST classification. Their CNN was deepened and adjusted to iteratively learn the USPS dataset.\n",
    "- [Leo Pauly](https://github.com/leopauly) for the research in general and the initial code which loads the datasets."
   ]
  },
  {
   "cell_type": "code",
   "execution_count": 1,
   "metadata": {
    "collapsed": true
   },
   "outputs": [],
   "source": [
    "import tensorflow as tf\n",
    "import numpy as np\n",
    "from sklearn.metrics import confusion_matrix\n",
    "import matplotlib.pyplot as plt\n",
    "from datetime import timedelta\n",
    "from importlib import reload\n",
    "import math\n",
    "import time\n",
    "\n",
    "# Custom scripts.\n",
    "import ysb\n",
    "import dataset\n",
    "import mnist_usps as mnus\n",
    "import cnn_helper as cn"
   ]
  },
  {
   "cell_type": "code",
   "execution_count": 2,
   "metadata": {},
   "outputs": [
    {
     "data": {
      "text/plain": [
       "<module 'cnn_helper' from '/Users/ysbecca/ysbecca-projects/Domain-Adaptation/MNIST_USPS_Dataset/cnn_helper.py'>"
      ]
     },
     "execution_count": 2,
     "metadata": {},
     "output_type": "execute_result"
    }
   ],
   "source": [
    "reload(mnus)\n",
    "reload(dataset)\n",
    "reload(cn)"
   ]
  },
  {
   "cell_type": "markdown",
   "metadata": {},
   "source": [
    "Set parameters."
   ]
  },
  {
   "cell_type": "code",
   "execution_count": 3,
   "metadata": {
    "collapsed": true
   },
   "outputs": [],
   "source": [
    "# CNN PARAMETERS\n",
    "filter_size1 = 5          # Convolution filters are 5 x 5 pixels.\n",
    "num_filters1 = 16         # There are 16 of these filters.\n",
    "\n",
    "filter_size2 = 5         \n",
    "num_filters2 = 16    \n",
    "\n",
    "filter_size3 = 5         \n",
    "num_filters3 = 32    \n",
    "\n",
    "fc_size = 128             # Number of neurons in fully-connected layer.\n",
    "\n",
    "# IMAGE PARAMETERS\n",
    "img_size = 16             # Width and height in pixels.\n",
    "\n",
    "# Images are stored in one-dimensional arrays of this length.\n",
    "img_size_flat = img_size * img_size\n",
    "\n",
    "# Tuple with height and width of images used to reshape arrays.\n",
    "img_shape = (img_size, img_size)\n",
    "\n",
    "# Number of colour channels for the images: 1 channel for gray-scale.\n",
    "num_channels = 1\n",
    "\n",
    "# Number of classes, one class for each of 10 digits.\n",
    "num_classes = 10"
   ]
  },
  {
   "cell_type": "markdown",
   "metadata": {},
   "source": [
    "## Load both datasets."
   ]
  },
  {
   "cell_type": "code",
   "execution_count": 4,
   "metadata": {},
   "outputs": [
    {
     "name": "stdout",
     "output_type": "stream",
     "text": [
      "Time elapsed: 0:00:05\n"
     ]
    }
   ],
   "source": [
    "mnist_data, usps_data = dataset.read_datasets()"
   ]
  },
  {
   "cell_type": "code",
   "execution_count": 5,
   "metadata": {},
   "outputs": [
    {
     "name": "stdout",
     "output_type": "stream",
     "text": [
      "MNIST dataset:\n",
      "- Training-set:\t\t49000\n",
      "- Test-set:\t\t14000\n",
      "- Validation-set:\t7000\n",
      "USPS dataset:\n",
      "- Training-set:\t\t7439\n",
      "- Test-set:\t\t1859\n"
     ]
    }
   ],
   "source": [
    "print(\"MNIST dataset:\")\n",
    "print(\"- Training-set:\\t\\t{}\".format(mnist_data.train.num_images))\n",
    "print(\"- Test-set:\\t\\t{}\".format(mnist_data.test.num_images))\n",
    "print(\"- Validation-set:\\t{}\".format(mnist_data.valid.num_images))\n",
    "\n",
    "print(\"USPS dataset:\")\n",
    "print(\"- Training-set:\\t\\t{}\".format(usps_data.train.num_images))\n",
    "print(\"- Test-set:\\t\\t{}\".format(usps_data.test.num_images))"
   ]
  },
  {
   "cell_type": "code",
   "execution_count": 6,
   "metadata": {},
   "outputs": [
    {
     "data": {
      "image/png": "[encoded data removed]",
      "text/plain": [
       "<matplotlib.figure.Figure at 0x12f25d780>"
      ]
     },
     "metadata": {},
     "output_type": "display_data"
    },
    {
     "data": {
      "image/png": "[encoded data removed]",
      "text/plain": [
       "<matplotlib.figure.Figure at 0x12f84fe10>"
      ]
     },
     "metadata": {},
     "output_type": "display_data"
    }
   ],
   "source": [
    "i = 0\n",
    "ysb.show_labeled_patches_gray(mnist_data.train.images[i:(i+10)], mnist_data.train.cls[i:(i+10)])\n",
    "ysb.show_labeled_patches_gray(usps_data.train.images[i:(i+10)], usps_data.train.cls[i:(i+10)])"
   ]
  },
  {
   "cell_type": "markdown",
   "metadata": {},
   "source": [
    "## Train the CNN on MNIST.\n",
    "\n",
    "First, set up the placeholders."
   ]
  },
  {
   "cell_type": "code",
   "execution_count": 7,
   "metadata": {
    "collapsed": true
   },
   "outputs": [],
   "source": [
    "x = tf.placeholder(tf.float32, shape=[None, img_size_flat], name='x')\n",
    "x_image = tf.reshape(x, [-1, img_size, img_size, num_channels])\n",
    "y_true = tf.placeholder(tf.float32, shape=[None, num_classes], name='y_true')\n",
    "y_true_cls = tf.argmax(y_true, dimension=1) # A placeholder only, so calculated instead of passed directly."
   ]
  },
  {
   "cell_type": "markdown",
   "metadata": {},
   "source": [
    "Build TensorFlow graph for a simple 3-layer CNN with max-pooling, ReLU and two fully-connected layers."
   ]
  },
  {
   "cell_type": "code",
   "execution_count": 8,
   "metadata": {
    "collapsed": true
   },
   "outputs": [],
   "source": [
    "layer_conv1, weights_conv1 = \\\n",
    "    cn.new_conv_layer(input=x_image,\n",
    "                   num_input_channels=num_channels,\n",
    "                   filter_size=filter_size1,\n",
    "                   num_filters=num_filters1,\n",
    "                   use_pooling=True,\n",
    "                   w_name=\"conv1_w\")\n",
    "layer_conv2, weights_conv2 = \\\n",
    "    cn.new_conv_layer(input=layer_conv1,\n",
    "                   num_input_channels=num_filters1,\n",
    "                   filter_size=filter_size2,\n",
    "                   num_filters=num_filters2,\n",
    "                   use_pooling=True,\n",
    "                   w_name=\"conv2_w\")\n",
    "layer_conv3, weights_conv3 = \\\n",
    "    cn.new_conv_layer(input=layer_conv2,\n",
    "                   num_input_channels=num_filters2,\n",
    "                   filter_size=filter_size3,\n",
    "                   num_filters=num_filters3,\n",
    "                   use_pooling=True,\n",
    "                   w_name=\"conv3_w\")\n",
    "layer_flat, num_features = cn.flatten_layer(layer_conv3)\n",
    "layer_fc1 = cn.new_fc_layer(input=layer_flat,                # num_features = 128, from the flattened 3rd layer.\n",
    "                         num_inputs=num_features,\n",
    "                         num_outputs=fc_size,\n",
    "                         use_relu=True,\n",
    "                         w_name=\"fc1_w\")\n",
    "layer_fc2 = cn.new_fc_layer(input=layer_fc1,                 # This is the classification layer.\n",
    "                         num_inputs=fc_size,\n",
    "                         num_outputs=num_classes,            # num_classes = 10\n",
    "                         use_relu=False,\n",
    "                         w_name=\"fc2_w\")\n",
    "y_pred = tf.nn.softmax(layer_fc2)                            # This is the softmax output prediction.\n",
    "y_pred_cls = tf.argmax(y_pred, dimension=1)                  # The hard classification, with a threshold of 0.5."
   ]
  },
  {
   "cell_type": "code",
   "execution_count": 9,
   "metadata": {
    "collapsed": true
   },
   "outputs": [],
   "source": [
    "# Cost to be reduced is the the cross entropy over all the images.\n",
    "cross_entropy = tf.nn.softmax_cross_entropy_with_logits(logits=layer_fc2, labels=y_true)\n",
    "cost = tf.reduce_mean(cross_entropy)\n",
    "optimizer = tf.train.AdamOptimizer(learning_rate=1e-4).minimize(cost)\n",
    "\n",
    "correct_prediction = tf.equal(y_pred_cls, y_true_cls)\n",
    "accuracy = tf.reduce_mean(tf.cast(correct_prediction, tf.float32))"
   ]
  },
  {
   "cell_type": "markdown",
   "metadata": {},
   "source": [
    "Now we create a new TensorFlow session and initialise the variables."
   ]
  },
  {
   "cell_type": "code",
   "execution_count": 10,
   "metadata": {
    "collapsed": true
   },
   "outputs": [],
   "source": [
    "session = tf.Session()\n",
    "session.run(tf.global_variables_initializer())\n",
    "train_batch_size = 64\n",
    "test_batch_size = 128"
   ]
  },
  {
   "cell_type": "markdown",
   "metadata": {},
   "source": [
    "Helper functions for running optimisation iterations and showing test accuracy."
   ]
  },
  {
   "cell_type": "code",
   "execution_count": 11,
   "metadata": {
    "collapsed": true
   },
   "outputs": [],
   "source": [
    "# Counter for total number of iterations performed so far.\n",
    "total_iterations = 0\n",
    "\n",
    "def optimize(dataset_train, num_iterations):\n",
    "    global total_iterations\n",
    "    start_time = time.time()\n",
    "    for i in range(total_iterations,\n",
    "                   total_iterations + num_iterations):\n",
    "        x_batch, y_true_batch = dataset_train.next_batch(train_batch_size)\n",
    "        x_batch = x_batch.reshape(len(x_batch), img_size_flat)\n",
    "        feed_dict_train = {x: x_batch, y_true: y_true_batch}\n",
    "\n",
    "        session.run(optimizer, feed_dict=feed_dict_train)\n",
    "\n",
    "        # Print status every 500 iterations.\n",
    "        if i % 250 == 0:\n",
    "            # Calculate the accuracy on the training-set.\n",
    "            acc = session.run(accuracy, feed_dict=feed_dict_train)\n",
    "\n",
    "            # Message for printing.\n",
    "            msg = \"Optimization Iteration: {0:>6}, Training Accuracy: {1:>6.1%}\"\n",
    "            print(msg.format(i + 1, acc))\n",
    "\n",
    "    total_iterations += num_iterations\n",
    "\n",
    "    end_time = time.time()\n",
    "    time_dif = end_time - start_time\n",
    "    print(\"Time usage: \" + str(timedelta(seconds=int(round(time_dif)))))\n",
    "    \n",
    "def print_test_accuracy(dataset_test, show_confusion_matrix=True):\n",
    "    num_test = len(dataset_test.images)\n",
    "    cls_pred = np.zeros(shape=num_test, dtype=np.int)\n",
    "    i = 0\n",
    "\n",
    "    while i < num_test:\n",
    "        # The ending index for the next batch is denoted j.\n",
    "        j = min(i + test_batch_size, num_test)\n",
    "        curr_batch_size = j - i\n",
    "        \n",
    "        # Get the images and targets from the test-set between index i and j.\n",
    "        images = dataset_test.images[i:j, :].reshape(curr_batch_size, img_size_flat)\n",
    "        labels = dataset_test.labels[i:j, :]\n",
    "        feed_dict = {x: images, y_true: labels}\n",
    "\n",
    "        cls_pred[i:j] = session.run(y_pred_cls, feed_dict=feed_dict)\n",
    "        i = j\n",
    "\n",
    "    # Convenience variable for the true class-numbers of the test-set.\n",
    "    cls_true = dataset_test.cls\n",
    "\n",
    "    # Create a boolean array whether each image is correctly classified.\n",
    "    correct = (cls_true == cls_pred)\n",
    "    correct_sum = correct.sum()\n",
    "    acc = float(correct_sum) / num_test\n",
    "\n",
    "    # Print the accuracy.\n",
    "    msg = \"Accuracy on test set: {0:.1%} ({1} / {2})\"\n",
    "    print(msg.format(acc, correct_sum, num_test))\n",
    "    \n",
    "    if show_confusion_matrix:\n",
    "        print(\"Confusion matrix:\")\n",
    "        cn.plot_confusion_matrix(cls_true, cls_pred=cls_pred)"
   ]
  },
  {
   "cell_type": "markdown",
   "metadata": {},
   "source": [
    "Train CNN."
   ]
  },
  {
   "cell_type": "code",
   "execution_count": 12,
   "metadata": {},
   "outputs": [
    {
     "name": "stdout",
     "output_type": "stream",
     "text": [
      "Accuracy on test set: 8.9% (1250 / 14000)\n"
     ]
    }
   ],
   "source": [
    "print_test_accuracy(mnist_data.test, show_confusion_matrix=False)"
   ]
  },
  {
   "cell_type": "code",
   "execution_count": 13,
   "metadata": {},
   "outputs": [
    {
     "name": "stdout",
     "output_type": "stream",
     "text": [
      "Optimization Iteration:      1, Training Accuracy:  10.9%\n",
      "Optimization Iteration:    251, Training Accuracy:  57.8%\n",
      "Optimization Iteration:    501, Training Accuracy:  70.3%\n",
      "Optimization Iteration:    751, Training Accuracy:  84.4%\n",
      "Optimization Iteration:   1001, Training Accuracy:  87.5%\n",
      "Optimization Iteration:   1251, Training Accuracy:  92.2%\n",
      "Optimization Iteration:   1501, Training Accuracy:  89.1%\n",
      "Optimization Iteration:   1751, Training Accuracy:  87.5%\n",
      "Time usage: 0:01:04\n"
     ]
    }
   ],
   "source": [
    "optimize(mnist_data.train, num_iterations=2000)"
   ]
  },
  {
   "cell_type": "code",
   "execution_count": 14,
   "metadata": {},
   "outputs": [
    {
     "name": "stdout",
     "output_type": "stream",
     "text": [
      "Accuracy on test set: 90.8% (12710 / 14000)\n"
     ]
    }
   ],
   "source": [
    "print_test_accuracy(mnist_data.test, show_confusion_matrix=False)"
   ]
  },
  {
   "cell_type": "code",
   "execution_count": 15,
   "metadata": {},
   "outputs": [
    {
     "name": "stdout",
     "output_type": "stream",
     "text": [
      "Optimization Iteration:   2001, Training Accuracy:  93.8%\n",
      "Optimization Iteration:   2251, Training Accuracy:  89.1%\n",
      "Optimization Iteration:   2501, Training Accuracy:  96.9%\n",
      "Optimization Iteration:   2751, Training Accuracy:  98.4%\n",
      "Optimization Iteration:   3001, Training Accuracy:  96.9%\n",
      "Optimization Iteration:   3251, Training Accuracy:  95.3%\n",
      "Optimization Iteration:   3501, Training Accuracy:  96.9%\n",
      "Optimization Iteration:   3751, Training Accuracy:  95.3%\n",
      "Optimization Iteration:   4001, Training Accuracy:  98.4%\n",
      "Optimization Iteration:   4251, Training Accuracy:  98.4%\n",
      "Optimization Iteration:   4501, Training Accuracy:  93.8%\n",
      "Optimization Iteration:   4751, Training Accuracy:  90.6%\n",
      "Optimization Iteration:   5001, Training Accuracy:  96.9%\n",
      "Optimization Iteration:   5251, Training Accuracy:  93.8%\n",
      "Optimization Iteration:   5501, Training Accuracy:  98.4%\n",
      "Optimization Iteration:   5751, Training Accuracy:  98.4%\n",
      "Optimization Iteration:   6001, Training Accuracy:  98.4%\n",
      "Optimization Iteration:   6251, Training Accuracy:  96.9%\n",
      "Optimization Iteration:   6501, Training Accuracy:  98.4%\n",
      "Optimization Iteration:   6751, Training Accuracy:  98.4%\n",
      "Optimization Iteration:   7001, Training Accuracy:  93.8%\n",
      "Optimization Iteration:   7251, Training Accuracy:  98.4%\n",
      "Optimization Iteration:   7501, Training Accuracy:  92.2%\n",
      "Optimization Iteration:   7751, Training Accuracy:  96.9%\n",
      "Time usage: 0:02:50\n"
     ]
    }
   ],
   "source": [
    "optimize(mnist_data.train, num_iterations=6000)"
   ]
  },
  {
   "cell_type": "code",
   "execution_count": 16,
   "metadata": {},
   "outputs": [
    {
     "name": "stdout",
     "output_type": "stream",
     "text": [
      "Accuracy on test set: 95.8% (13413 / 14000)\n",
      "Confusion matrix:\n",
      "[[1369    1    3    0    0    2   10    1    6    0]\n",
      " [   0 1538    6    2    3    2    7    3    3    0]\n",
      " [  10   10 1359    7    4    3    5   14   10    1]\n",
      " [   7    8   27 1335    1   26    1   16   24   10]\n",
      " [   0    1    2    0 1370    0    7    3    0    4]\n",
      " [   3    3    2    3    3 1207   16    1    7    5]\n",
      " [   7    4    0    0    7    3 1354    0    1    0]\n",
      " [   1    5   11    3   11    1    0 1409    1   10]\n",
      " [   5    8    7   10    9    8   13    1 1273    7]\n",
      " [  10    3    0    8   88   13    0   34    5 1199]]\n"
     ]
    },
    {
     "data": {
      "image/png": "[encoded data removed]",
      "text/plain": [
       "<matplotlib.figure.Figure at 0x1377a4da0>"
      ]
     },
     "metadata": {},
     "output_type": "display_data"
    }
   ],
   "source": [
    "print_test_accuracy(mnist_data.test, show_confusion_matrix=True)"
   ]
  },
  {
   "cell_type": "markdown",
   "metadata": {},
   "source": [
    "Now test on USPS training set, and display accuracy as well as percentage of results by softmax output."
   ]
  },
  {
   "cell_type": "code",
   "execution_count": 17,
   "metadata": {},
   "outputs": [
    {
     "name": "stdout",
     "output_type": "stream",
     "text": [
      "Accuracy on test set: 63.8% (4744 / 7439)\n",
      "Confusion matrix:\n",
      "[[692   0  45  11   1 398   2   0  89   0]\n",
      " [  0 295   0   6   1   0   3   0 696   2]\n",
      " [  0   1 630  74   4  31   3   0  15   0]\n",
      " [  0   1  24 566   0  35   0   1  15   1]\n",
      " [  1   1   5   2 477   1  61  27  65  56]\n",
      " [  4   0   1  82   1 464   2   0   8   1]\n",
      " [  8   2   3   0   0 119 507   0  26   0]\n",
      " [  0 132  72  16   3   1   0 355  40   4]\n",
      " [  0   0   1  21   0  22   0   0 524   0]\n",
      " [  0   0   4  83  65   4   1  48 243 234]]\n"
     ]
    },
    {
     "data": {
      "image/png": "[encoded data removed]",
      "text/plain": [
       "<matplotlib.figure.Figure at 0x12f92aef0>"
      ]
     },
     "metadata": {},
     "output_type": "display_data"
    }
   ],
   "source": [
    "print_test_accuracy(usps_data.train, show_confusion_matrix=True)"
   ]
  },
  {
   "cell_type": "code",
   "execution_count": 18,
   "metadata": {
    "collapsed": true
   },
   "outputs": [],
   "source": [
    "def retrieve_predictions(dataset):\n",
    "    ''' Retrieves the probabilities (not predicted classes) on the given DataSet object. '''\n",
    "    num_test = len(dataset.images)\n",
    "    print(\"Number of images in set: \" + str(num_test))\n",
    "\n",
    "    # Allocate an array for the class probabilities which will be calculated in batches \n",
    "    # and added onto this array; this first element is a dummy to maintain shape.\n",
    "    cls_prob = np.zeros(shape=(1, num_classes), dtype=np.int)\n",
    "    i = 0\n",
    "\n",
    "    while i < num_test:\n",
    "        j = min(i + test_batch_size, num_test)\n",
    "        curr_batch_size = j - i\n",
    "        images = dataset.images[i:j, :].reshape(curr_batch_size, img_size_flat)\n",
    "        labels = dataset.labels[i:j, :]\n",
    "        feed_dict = {x: images, y_true: labels}\n",
    "\n",
    "        # Save the softmax output.\n",
    "        cls_prob = np.concatenate((cls_prob, session.run(y_pred, feed_dict=feed_dict)), axis=0)\n",
    "        i = j\n",
    "    \n",
    "    cls_prob = np.delete(cls_prob, 0, 0) # Remove the first dummy element now.\n",
    "    return cls_prob"
   ]
  },
  {
   "cell_type": "code",
   "execution_count": 19,
   "metadata": {},
   "outputs": [
    {
     "name": "stdout",
     "output_type": "stream",
     "text": [
      "Number of images in set: 7439\n"
     ]
    }
   ],
   "source": [
    "usps_train_preds = retrieve_predictions(usps_data.train)"
   ]
  },
  {
   "cell_type": "code",
   "execution_count": 20,
   "metadata": {},
   "outputs": [
    {
     "name": "stdout",
     "output_type": "stream",
     "text": [
      "Found 1937 images labeled with confidence >= 0.99\n"
     ]
    }
   ],
   "source": [
    "selected = cn.split_by_threshold(0.99, usps_train_preds)"
   ]
  },
  {
   "cell_type": "code",
   "execution_count": 21,
   "metadata": {},
   "outputs": [
    {
     "name": "stdout",
     "output_type": "stream",
     "text": [
      "Images added to set: 1937\n"
     ]
    }
   ],
   "source": [
    "data = dataset.generate_combined_dataset(mnist_data, usps_data)\n",
    "data.train.add_to_set(selected, usps_data.train, usps_train_preds)\n",
    "data.usps_train.remove_from_set(selected)"
   ]
  },
  {
   "cell_type": "code",
   "execution_count": 30,
   "metadata": {},
   "outputs": [
    {
     "name": "stdout",
     "output_type": "stream",
     "text": [
      "Optimization Iteration:  11001, Training Accuracy: 100.0%\n",
      "Optimization Iteration:  11251, Training Accuracy:  96.9%\n",
      "Optimization Iteration:  11501, Training Accuracy:  93.8%\n",
      "Optimization Iteration:  11751, Training Accuracy:  96.9%\n",
      "Time usage: 0:00:27\n",
      "Accuracy on test set: 65.3% (1214 / 1859)\n",
      "Confusion matrix:\n",
      "[[234   0   6   3   0  39   0   0  27   6]\n",
      " [  0  57   0   1   0   0   0   0 208   0]\n",
      " [  0   0 146  17   0   2   0   0   6   0]\n",
      " [  0   0   3 160   0  10   0   0   8   0]\n",
      " [  2   0   1   1 106   1   7   1  17  20]\n",
      " [  0   0   0  24   0 124   0   0   4   1]\n",
      " [  4   0   0   0   0   9 136   0  20   0]\n",
      " [  1  53  19   1   1   1   0  65  20   8]\n",
      " [  0   0   0   4   0   6   1   0 129   0]\n",
      " [  0   0   0   9  13   1   0   7  52  57]]\n"
     ]
    },
    {
     "data": {
      "image/png": "[encoded data removed]",
      "text/plain": [
       "<matplotlib.figure.Figure at 0x12f9afcf8>"
      ]
     },
     "metadata": {},
     "output_type": "display_data"
    }
   ],
   "source": [
    "optimize(data.train, num_iterations=1000)\n",
    "print_test_accuracy(data.test, show_confusion_matrix=True)"
   ]
  },
  {
   "cell_type": "code",
   "execution_count": 31,
   "metadata": {},
   "outputs": [
    {
     "name": "stdout",
     "output_type": "stream",
     "text": [
      "Optimization Iteration:  12001, Training Accuracy:  98.4%\n",
      "Optimization Iteration:  12251, Training Accuracy:  98.4%\n",
      "Optimization Iteration:  12501, Training Accuracy:  96.9%\n",
      "Optimization Iteration:  12751, Training Accuracy:  98.4%\n",
      "Optimization Iteration:  13001, Training Accuracy: 100.0%\n",
      "Optimization Iteration:  13251, Training Accuracy:  98.4%\n",
      "Optimization Iteration:  13501, Training Accuracy:  98.4%\n",
      "Optimization Iteration:  13751, Training Accuracy:  96.9%\n",
      "Optimization Iteration:  14001, Training Accuracy:  96.9%\n",
      "Optimization Iteration:  14251, Training Accuracy:  98.4%\n",
      "Optimization Iteration:  14501, Training Accuracy:  96.9%\n",
      "Optimization Iteration:  14751, Training Accuracy:  98.4%\n",
      "Time usage: 0:01:19\n",
      "Accuracy on test set: 59.2% (1101 / 1859)\n",
      "Confusion matrix:\n",
      "[[205   0  16   4   0  48   0   0  37   5]\n",
      " [  0  37   0   2   0   0   0   0 227   0]\n",
      " [  0   0 149  15   0   2   0   0   5   0]\n",
      " [  0   0   3 167   0   6   0   0   5   0]\n",
      " [  1   3   3   0  97   2  11   2  26  11]\n",
      " [  0   0   0  28   0 120   0   0   5   0]\n",
      " [  2   1   0   0   0  14 128   0  24   0]\n",
      " [  1  46  34   8   0   1   0  47  29   3]\n",
      " [  0   0   0   4   0   6   0   0 130   0]\n",
      " [  0   0   0  18   6   1   0   2  91  21]]\n"
     ]
    },
    {
     "data": {
      "image/png": "[encoded data removed]",
      "text/plain": [
       "<matplotlib.figure.Figure at 0x137809978>"
      ]
     },
     "metadata": {},
     "output_type": "display_data"
    }
   ],
   "source": [
    "optimize(data.train, num_iterations=3000) # Too much training - overfitting MNIST decreases performance on USPS.\n",
    "print_test_accuracy(data.test, show_confusion_matrix=True)"
   ]
  },
  {
   "cell_type": "markdown",
   "metadata": {
    "collapsed": true
   },
   "source": [
    "Now re-run the remaining USPS train set through the CNN and bootstrap the top 0.99 again."
   ]
  },
  {
   "cell_type": "code",
   "execution_count": 32,
   "metadata": {
    "collapsed": true
   },
   "outputs": [],
   "source": [
    "# Plot accuracy over bootstrap iterations. "
   ]
  },
  {
   "cell_type": "code",
   "execution_count": null,
   "metadata": {},
   "outputs": [],
   "source": []
  },
  {
   "cell_type": "markdown",
   "metadata": {
    "collapsed": true
   },
   "source": [
    "## Close TensorFlow session\n",
    "\n",
    "Releases all resources! Run only when prepared to lose saved CNN model."
   ]
  },
  {
   "cell_type": "code",
   "execution_count": 33,
   "metadata": {
    "collapsed": true
   },
   "outputs": [],
   "source": [
    "session.close()"
   ]
  },
  {
   "cell_type": "code",
   "execution_count": null,
   "metadata": {
    "collapsed": true
   },
   "outputs": [],
   "source": []
  },
  {
   "cell_type": "code",
   "execution_count": null,
   "metadata": {
    "collapsed": true
   },
   "outputs": [],
   "source": []
  }
 ],
 "metadata": {
  "kernelspec": {
   "display_name": "Python 3",
   "language": "python",
   "name": "python3"
  },
  "language_info": {
   "codemirror_mode": {
    "name": "ipython",
    "version": 3
   },
   "file_extension": ".py",
   "mimetype": "text/x-python",
   "name": "python",
   "nbconvert_exporter": "python",
   "pygments_lexer": "ipython3",
   "version": "3.6.1"
  }
 },
 "nbformat": 4,
 "nbformat_minor": 2
}
